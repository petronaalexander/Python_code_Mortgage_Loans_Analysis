{
 "cells": [
  {
   "cell_type": "markdown",
   "metadata": {},
   "source": [
    "## 6.4 Machine Learning Part 1"
   ]
  },
  {
   "cell_type": "markdown",
   "metadata": {},
   "source": [
    "### This script contains the following:\n",
    "\n",
    "#### Step 2 - Import libraries and data\n",
    "#### Step 3 - Clean data\n",
    "#### Step 4 - Explore relationship between variables\n",
    "#### Step 5 - Hypothesis\n",
    "#### Step 6 - Reshape variables into NumPy arrays\n",
    "#### Step 7 - Split data into training and test sets\n",
    "#### Step 8 - Run a linear regression on the data\n",
    "#### Step 9 - Create a plot that shows the regression line on the test data\n",
    "#### Step 10 - Interpretation of how well the line appears to fit the data\n",
    "#### Step 11 - Check the model performance statistics\n",
    "#### Step 12 - Compare the predicted y values with the actual y values\n",
    "#### Step 13 - Thoughts on model performance on the test set"
   ]
  },
  {
   "cell_type": "markdown",
   "metadata": {},
   "source": [
    "### Step 2 - Import libraries and data"
   ]
  },
  {
   "cell_type": "code",
   "execution_count": 1,
   "metadata": {},
   "outputs": [],
   "source": [
    "import pandas as pd\n",
    "import numpy as np\n",
    "import seaborn as sns\n",
    "import matplotlib\n",
    "import matplotlib.pyplot as plt\n",
    "import os\n",
    "import sklearn\n",
    "from sklearn.model_selection import train_test_split \n",
    "from sklearn.linear_model import LinearRegression\n",
    "from sklearn.metrics import mean_squared_error, r2_score"
   ]
  },
  {
   "cell_type": "code",
   "execution_count": 2,
   "metadata": {},
   "outputs": [],
   "source": [
    "# This option ensures that the graphs you create are displayed within the notebook without the need to \"call\" them specifically.\n",
    "\n",
    "%matplotlib inline"
   ]
  },
  {
   "cell_type": "code",
   "execution_count": 3,
   "metadata": {},
   "outputs": [],
   "source": [
    "path = r'C:\\Users\\jomok\\Documents\\Career Foundry\\Achievement 6\\09-2023 FHL Bank Data Analysis'"
   ]
  },
  {
   "cell_type": "code",
   "execution_count": 4,
   "metadata": {},
   "outputs": [],
   "source": [
    "df = pd.read_pickle(os.path.join(path, '02 Data', 'Prepared Data', 'FHL_bank_data_borr1_clean.pkl'))"
   ]
  },
  {
   "cell_type": "markdown",
   "metadata": {},
   "source": [
    "### Step 3 - Clean data"
   ]
  },
  {
   "cell_type": "code",
   "execution_count": 5,
   "metadata": {
    "scrolled": true
   },
   "outputs": [
    {
     "data": {
      "text/plain": [
       "Index(['County', 'State', 'Year', 'LoanCharacteristicsID',\n",
       "       'Total Monthly Income Amount', 'Borrower 1 Age', 'Borrower 1 Race',\n",
       "       'Borrower 1 Gender', 'Borrower 1 Credit Score Value',\n",
       "       'Property Unit Count', 'Note Rate Percent', 'Note Amount',\n",
       "       'Total Debt Expense Ratio Percent', 'Loan Purpose', 'Mortgage Type',\n",
       "       'First Time Homebuyer', 'Property Usage', 'Property Type', 'Loan Count',\n",
       "       'Borrower Count', 'Total Loan Count per State',\n",
       "       'Max Note Amount per State'],\n",
       "      dtype='object')"
      ]
     },
     "execution_count": 5,
     "metadata": {},
     "output_type": "execute_result"
    }
   ],
   "source": [
    "df.columns"
   ]
  },
  {
   "cell_type": "code",
   "execution_count": 6,
   "metadata": {
    "scrolled": true
   },
   "outputs": [
    {
     "data": {
      "text/html": [
       "<div>\n",
       "<style scoped>\n",
       "    .dataframe tbody tr th:only-of-type {\n",
       "        vertical-align: middle;\n",
       "    }\n",
       "\n",
       "    .dataframe tbody tr th {\n",
       "        vertical-align: top;\n",
       "    }\n",
       "\n",
       "    .dataframe thead th {\n",
       "        text-align: right;\n",
       "    }\n",
       "</style>\n",
       "<table border=\"1\" class=\"dataframe\">\n",
       "  <thead>\n",
       "    <tr style=\"text-align: right;\">\n",
       "      <th></th>\n",
       "      <th>County</th>\n",
       "      <th>State</th>\n",
       "      <th>Year</th>\n",
       "      <th>LoanCharacteristicsID</th>\n",
       "      <th>Total Monthly Income Amount</th>\n",
       "      <th>Borrower 1 Age</th>\n",
       "      <th>Borrower 1 Race</th>\n",
       "      <th>Borrower 1 Gender</th>\n",
       "      <th>Borrower 1 Credit Score Value</th>\n",
       "      <th>Property Unit Count</th>\n",
       "      <th>...</th>\n",
       "      <th>Total Debt Expense Ratio Percent</th>\n",
       "      <th>Loan Purpose</th>\n",
       "      <th>Mortgage Type</th>\n",
       "      <th>First Time Homebuyer</th>\n",
       "      <th>Property Usage</th>\n",
       "      <th>Property Type</th>\n",
       "      <th>Loan Count</th>\n",
       "      <th>Borrower Count</th>\n",
       "      <th>Total Loan Count per State</th>\n",
       "      <th>Max Note Amount per State</th>\n",
       "    </tr>\n",
       "  </thead>\n",
       "  <tbody>\n",
       "    <tr>\n",
       "      <th>0</th>\n",
       "      <td>Chittenden</td>\n",
       "      <td>Vermont</td>\n",
       "      <td>2019</td>\n",
       "      <td>2407198</td>\n",
       "      <td>7308</td>\n",
       "      <td>34.0</td>\n",
       "      <td>White</td>\n",
       "      <td>Female</td>\n",
       "      <td>1</td>\n",
       "      <td>1</td>\n",
       "      <td>...</td>\n",
       "      <td>40.46</td>\n",
       "      <td>Purchase</td>\n",
       "      <td>FHA</td>\n",
       "      <td>Yes</td>\n",
       "      <td>Principal Residence</td>\n",
       "      <td>Single family detached</td>\n",
       "      <td>1</td>\n",
       "      <td>1</td>\n",
       "      <td>332</td>\n",
       "      <td>547560</td>\n",
       "    </tr>\n",
       "    <tr>\n",
       "      <th>1</th>\n",
       "      <td>Chittenden</td>\n",
       "      <td>Vermont</td>\n",
       "      <td>2019</td>\n",
       "      <td>2407199</td>\n",
       "      <td>7416</td>\n",
       "      <td>36.0</td>\n",
       "      <td>White</td>\n",
       "      <td>Female</td>\n",
       "      <td>3</td>\n",
       "      <td>1</td>\n",
       "      <td>...</td>\n",
       "      <td>45.67</td>\n",
       "      <td>Purchase</td>\n",
       "      <td>FHA</td>\n",
       "      <td>No</td>\n",
       "      <td>Principal Residence</td>\n",
       "      <td>Single family detached</td>\n",
       "      <td>1</td>\n",
       "      <td>2</td>\n",
       "      <td>332</td>\n",
       "      <td>547560</td>\n",
       "    </tr>\n",
       "    <tr>\n",
       "      <th>2</th>\n",
       "      <td>Lamoille</td>\n",
       "      <td>Vermont</td>\n",
       "      <td>2019</td>\n",
       "      <td>2407200</td>\n",
       "      <td>5143</td>\n",
       "      <td>34.0</td>\n",
       "      <td>White</td>\n",
       "      <td>Male</td>\n",
       "      <td>2</td>\n",
       "      <td>1</td>\n",
       "      <td>...</td>\n",
       "      <td>46.23</td>\n",
       "      <td>Purchase</td>\n",
       "      <td>FHA</td>\n",
       "      <td>No</td>\n",
       "      <td>Principal Residence</td>\n",
       "      <td>Single family detached</td>\n",
       "      <td>1</td>\n",
       "      <td>2</td>\n",
       "      <td>332</td>\n",
       "      <td>547560</td>\n",
       "    </tr>\n",
       "    <tr>\n",
       "      <th>3</th>\n",
       "      <td>Orange</td>\n",
       "      <td>Vermont</td>\n",
       "      <td>2019</td>\n",
       "      <td>2407201</td>\n",
       "      <td>8866</td>\n",
       "      <td>42.0</td>\n",
       "      <td>White</td>\n",
       "      <td>Male</td>\n",
       "      <td>4</td>\n",
       "      <td>1</td>\n",
       "      <td>...</td>\n",
       "      <td>36.88</td>\n",
       "      <td>Purchase</td>\n",
       "      <td>VA</td>\n",
       "      <td>No</td>\n",
       "      <td>Principal Residence</td>\n",
       "      <td>Single family detached</td>\n",
       "      <td>1</td>\n",
       "      <td>2</td>\n",
       "      <td>332</td>\n",
       "      <td>547560</td>\n",
       "    </tr>\n",
       "    <tr>\n",
       "      <th>4</th>\n",
       "      <td>York</td>\n",
       "      <td>Maine</td>\n",
       "      <td>2019</td>\n",
       "      <td>2407202</td>\n",
       "      <td>15240</td>\n",
       "      <td>66.0</td>\n",
       "      <td>White</td>\n",
       "      <td>Female</td>\n",
       "      <td>5</td>\n",
       "      <td>1</td>\n",
       "      <td>...</td>\n",
       "      <td>34.95</td>\n",
       "      <td>Purchase</td>\n",
       "      <td>Conventional</td>\n",
       "      <td>Yes</td>\n",
       "      <td>Principal Residence</td>\n",
       "      <td>Single family detached</td>\n",
       "      <td>1</td>\n",
       "      <td>1</td>\n",
       "      <td>229</td>\n",
       "      <td>575000</td>\n",
       "    </tr>\n",
       "    <tr>\n",
       "      <th>5</th>\n",
       "      <td>York</td>\n",
       "      <td>Maine</td>\n",
       "      <td>2019</td>\n",
       "      <td>2407203</td>\n",
       "      <td>5424</td>\n",
       "      <td>23.0</td>\n",
       "      <td>White</td>\n",
       "      <td>Male</td>\n",
       "      <td>3</td>\n",
       "      <td>1</td>\n",
       "      <td>...</td>\n",
       "      <td>42.04</td>\n",
       "      <td>Purchase</td>\n",
       "      <td>Conventional</td>\n",
       "      <td>Yes</td>\n",
       "      <td>Principal Residence</td>\n",
       "      <td>Single family detached</td>\n",
       "      <td>1</td>\n",
       "      <td>2</td>\n",
       "      <td>229</td>\n",
       "      <td>575000</td>\n",
       "    </tr>\n",
       "    <tr>\n",
       "      <th>6</th>\n",
       "      <td>Middlesex</td>\n",
       "      <td>Massachusetts</td>\n",
       "      <td>2019</td>\n",
       "      <td>2407205</td>\n",
       "      <td>10165</td>\n",
       "      <td>48.0</td>\n",
       "      <td>White</td>\n",
       "      <td>Female</td>\n",
       "      <td>5</td>\n",
       "      <td>1</td>\n",
       "      <td>...</td>\n",
       "      <td>39.82</td>\n",
       "      <td>Purchase</td>\n",
       "      <td>Conventional</td>\n",
       "      <td>Yes</td>\n",
       "      <td>Principal Residence</td>\n",
       "      <td>Low-rise condo</td>\n",
       "      <td>1</td>\n",
       "      <td>1</td>\n",
       "      <td>1441</td>\n",
       "      <td>828700</td>\n",
       "    </tr>\n",
       "    <tr>\n",
       "      <th>7</th>\n",
       "      <td>Plymouth</td>\n",
       "      <td>Massachusetts</td>\n",
       "      <td>2019</td>\n",
       "      <td>2407208</td>\n",
       "      <td>9678</td>\n",
       "      <td>33.0</td>\n",
       "      <td>White</td>\n",
       "      <td>Male</td>\n",
       "      <td>3</td>\n",
       "      <td>1</td>\n",
       "      <td>...</td>\n",
       "      <td>34.49</td>\n",
       "      <td>Purchase</td>\n",
       "      <td>Conventional</td>\n",
       "      <td>No</td>\n",
       "      <td>Principal Residence</td>\n",
       "      <td>Low-rise condo</td>\n",
       "      <td>1</td>\n",
       "      <td>2</td>\n",
       "      <td>1441</td>\n",
       "      <td>828700</td>\n",
       "    </tr>\n",
       "    <tr>\n",
       "      <th>8</th>\n",
       "      <td>Norfolk</td>\n",
       "      <td>Massachusetts</td>\n",
       "      <td>2019</td>\n",
       "      <td>2407209</td>\n",
       "      <td>7565</td>\n",
       "      <td>30.0</td>\n",
       "      <td>White</td>\n",
       "      <td>Male</td>\n",
       "      <td>5</td>\n",
       "      <td>1</td>\n",
       "      <td>...</td>\n",
       "      <td>43.24</td>\n",
       "      <td>Purchase</td>\n",
       "      <td>Conventional</td>\n",
       "      <td>Yes</td>\n",
       "      <td>Principal Residence</td>\n",
       "      <td>Single family detached</td>\n",
       "      <td>1</td>\n",
       "      <td>3</td>\n",
       "      <td>1441</td>\n",
       "      <td>828700</td>\n",
       "    </tr>\n",
       "    <tr>\n",
       "      <th>9</th>\n",
       "      <td>Norfolk</td>\n",
       "      <td>Massachusetts</td>\n",
       "      <td>2019</td>\n",
       "      <td>2407210</td>\n",
       "      <td>11416</td>\n",
       "      <td>44.0</td>\n",
       "      <td>White</td>\n",
       "      <td>Female</td>\n",
       "      <td>5</td>\n",
       "      <td>1</td>\n",
       "      <td>...</td>\n",
       "      <td>39.57</td>\n",
       "      <td>Purchase</td>\n",
       "      <td>Conventional</td>\n",
       "      <td>Yes</td>\n",
       "      <td>Principal Residence</td>\n",
       "      <td>Single family detached</td>\n",
       "      <td>1</td>\n",
       "      <td>2</td>\n",
       "      <td>1441</td>\n",
       "      <td>828700</td>\n",
       "    </tr>\n",
       "    <tr>\n",
       "      <th>10</th>\n",
       "      <td>Plymouth</td>\n",
       "      <td>Massachusetts</td>\n",
       "      <td>2019</td>\n",
       "      <td>2407212</td>\n",
       "      <td>16425</td>\n",
       "      <td>62.0</td>\n",
       "      <td>White</td>\n",
       "      <td>Male</td>\n",
       "      <td>5</td>\n",
       "      <td>1</td>\n",
       "      <td>...</td>\n",
       "      <td>34.63</td>\n",
       "      <td>Purchase</td>\n",
       "      <td>Conventional</td>\n",
       "      <td>Yes</td>\n",
       "      <td>Principal Residence</td>\n",
       "      <td>Single family detached</td>\n",
       "      <td>1</td>\n",
       "      <td>1</td>\n",
       "      <td>1441</td>\n",
       "      <td>828700</td>\n",
       "    </tr>\n",
       "    <tr>\n",
       "      <th>11</th>\n",
       "      <td>Plymouth</td>\n",
       "      <td>Massachusetts</td>\n",
       "      <td>2019</td>\n",
       "      <td>2407213</td>\n",
       "      <td>4382</td>\n",
       "      <td>27.0</td>\n",
       "      <td>White</td>\n",
       "      <td>Female</td>\n",
       "      <td>5</td>\n",
       "      <td>1</td>\n",
       "      <td>...</td>\n",
       "      <td>43.84</td>\n",
       "      <td>Purchase</td>\n",
       "      <td>Conventional</td>\n",
       "      <td>No</td>\n",
       "      <td>Principal Residence</td>\n",
       "      <td>Single family detached</td>\n",
       "      <td>1</td>\n",
       "      <td>1</td>\n",
       "      <td>1441</td>\n",
       "      <td>828700</td>\n",
       "    </tr>\n",
       "    <tr>\n",
       "      <th>12</th>\n",
       "      <td>Cumberland</td>\n",
       "      <td>Maine</td>\n",
       "      <td>2019</td>\n",
       "      <td>2407214</td>\n",
       "      <td>4753</td>\n",
       "      <td>28.0</td>\n",
       "      <td>White</td>\n",
       "      <td>Male</td>\n",
       "      <td>4</td>\n",
       "      <td>1</td>\n",
       "      <td>...</td>\n",
       "      <td>30.73</td>\n",
       "      <td>Purchase</td>\n",
       "      <td>Conventional</td>\n",
       "      <td>No</td>\n",
       "      <td>Principal Residence</td>\n",
       "      <td>Single family detached</td>\n",
       "      <td>1</td>\n",
       "      <td>1</td>\n",
       "      <td>229</td>\n",
       "      <td>575000</td>\n",
       "    </tr>\n",
       "    <tr>\n",
       "      <th>13</th>\n",
       "      <td>Cumberland</td>\n",
       "      <td>Maine</td>\n",
       "      <td>2019</td>\n",
       "      <td>2407216</td>\n",
       "      <td>8565</td>\n",
       "      <td>32.0</td>\n",
       "      <td>White</td>\n",
       "      <td>Male</td>\n",
       "      <td>4</td>\n",
       "      <td>1</td>\n",
       "      <td>...</td>\n",
       "      <td>38.47</td>\n",
       "      <td>Purchase</td>\n",
       "      <td>Conventional</td>\n",
       "      <td>No</td>\n",
       "      <td>Principal Residence</td>\n",
       "      <td>Single family detached</td>\n",
       "      <td>1</td>\n",
       "      <td>2</td>\n",
       "      <td>229</td>\n",
       "      <td>575000</td>\n",
       "    </tr>\n",
       "    <tr>\n",
       "      <th>14</th>\n",
       "      <td>Miami-Dade</td>\n",
       "      <td>Florida</td>\n",
       "      <td>2019</td>\n",
       "      <td>2407218</td>\n",
       "      <td>9505</td>\n",
       "      <td>39.0</td>\n",
       "      <td>Black or African American</td>\n",
       "      <td>Male</td>\n",
       "      <td>5</td>\n",
       "      <td>1</td>\n",
       "      <td>...</td>\n",
       "      <td>47.40</td>\n",
       "      <td>Purchase</td>\n",
       "      <td>Conventional</td>\n",
       "      <td>No</td>\n",
       "      <td>Second Home</td>\n",
       "      <td>PUD</td>\n",
       "      <td>1</td>\n",
       "      <td>1</td>\n",
       "      <td>1302</td>\n",
       "      <td>647200</td>\n",
       "    </tr>\n",
       "    <tr>\n",
       "      <th>15</th>\n",
       "      <td>Hartford</td>\n",
       "      <td>Connecticut</td>\n",
       "      <td>2019</td>\n",
       "      <td>2407219</td>\n",
       "      <td>10890</td>\n",
       "      <td>35.0</td>\n",
       "      <td>White</td>\n",
       "      <td>Male</td>\n",
       "      <td>5</td>\n",
       "      <td>1</td>\n",
       "      <td>...</td>\n",
       "      <td>18.39</td>\n",
       "      <td>Purchase</td>\n",
       "      <td>Conventional</td>\n",
       "      <td>No</td>\n",
       "      <td>Principal Residence</td>\n",
       "      <td>Single family detached</td>\n",
       "      <td>1</td>\n",
       "      <td>1</td>\n",
       "      <td>335</td>\n",
       "      <td>647200</td>\n",
       "    </tr>\n",
       "    <tr>\n",
       "      <th>16</th>\n",
       "      <td>El Paso</td>\n",
       "      <td>Colorado</td>\n",
       "      <td>2019</td>\n",
       "      <td>2407220</td>\n",
       "      <td>6749</td>\n",
       "      <td>61.0</td>\n",
       "      <td>White</td>\n",
       "      <td>Female</td>\n",
       "      <td>5</td>\n",
       "      <td>1</td>\n",
       "      <td>...</td>\n",
       "      <td>36.52</td>\n",
       "      <td>Purchase</td>\n",
       "      <td>Conventional</td>\n",
       "      <td>No</td>\n",
       "      <td>Second Home</td>\n",
       "      <td>Single family detached</td>\n",
       "      <td>1</td>\n",
       "      <td>1</td>\n",
       "      <td>2501</td>\n",
       "      <td>650000</td>\n",
       "    </tr>\n",
       "    <tr>\n",
       "      <th>17</th>\n",
       "      <td>Washington</td>\n",
       "      <td>Oklahoma</td>\n",
       "      <td>2019</td>\n",
       "      <td>2407221</td>\n",
       "      <td>9856</td>\n",
       "      <td>53.0</td>\n",
       "      <td>White</td>\n",
       "      <td>Female</td>\n",
       "      <td>4</td>\n",
       "      <td>1</td>\n",
       "      <td>...</td>\n",
       "      <td>32.89</td>\n",
       "      <td>Purchase</td>\n",
       "      <td>Conventional</td>\n",
       "      <td>Yes</td>\n",
       "      <td>Second Home</td>\n",
       "      <td>Single family detached</td>\n",
       "      <td>1</td>\n",
       "      <td>1</td>\n",
       "      <td>1505</td>\n",
       "      <td>647200</td>\n",
       "    </tr>\n",
       "    <tr>\n",
       "      <th>18</th>\n",
       "      <td>Polk</td>\n",
       "      <td>Florida</td>\n",
       "      <td>2019</td>\n",
       "      <td>2407223</td>\n",
       "      <td>2557</td>\n",
       "      <td>65.0</td>\n",
       "      <td>White</td>\n",
       "      <td>Male</td>\n",
       "      <td>5</td>\n",
       "      <td>1</td>\n",
       "      <td>...</td>\n",
       "      <td>49.47</td>\n",
       "      <td>Purchase</td>\n",
       "      <td>Conventional</td>\n",
       "      <td>No</td>\n",
       "      <td>Principal Residence</td>\n",
       "      <td>PUD</td>\n",
       "      <td>1</td>\n",
       "      <td>1</td>\n",
       "      <td>1302</td>\n",
       "      <td>647200</td>\n",
       "    </tr>\n",
       "    <tr>\n",
       "      <th>19</th>\n",
       "      <td>Suffolk</td>\n",
       "      <td>Massachusetts</td>\n",
       "      <td>2019</td>\n",
       "      <td>2407224</td>\n",
       "      <td>4170</td>\n",
       "      <td>34.0</td>\n",
       "      <td>Unknown</td>\n",
       "      <td>Unknown</td>\n",
       "      <td>5</td>\n",
       "      <td>1</td>\n",
       "      <td>...</td>\n",
       "      <td>34.00</td>\n",
       "      <td>Purchase</td>\n",
       "      <td>Conventional</td>\n",
       "      <td>Yes</td>\n",
       "      <td>Principal Residence</td>\n",
       "      <td>Low-rise condo</td>\n",
       "      <td>1</td>\n",
       "      <td>1</td>\n",
       "      <td>1441</td>\n",
       "      <td>828700</td>\n",
       "    </tr>\n",
       "  </tbody>\n",
       "</table>\n",
       "<p>20 rows × 22 columns</p>\n",
       "</div>"
      ],
      "text/plain": [
       "        County          State  Year LoanCharacteristicsID  \\\n",
       "0   Chittenden        Vermont  2019               2407198   \n",
       "1   Chittenden        Vermont  2019               2407199   \n",
       "2     Lamoille        Vermont  2019               2407200   \n",
       "3       Orange        Vermont  2019               2407201   \n",
       "4         York          Maine  2019               2407202   \n",
       "5         York          Maine  2019               2407203   \n",
       "6    Middlesex  Massachusetts  2019               2407205   \n",
       "7     Plymouth  Massachusetts  2019               2407208   \n",
       "8      Norfolk  Massachusetts  2019               2407209   \n",
       "9      Norfolk  Massachusetts  2019               2407210   \n",
       "10    Plymouth  Massachusetts  2019               2407212   \n",
       "11    Plymouth  Massachusetts  2019               2407213   \n",
       "12  Cumberland          Maine  2019               2407214   \n",
       "13  Cumberland          Maine  2019               2407216   \n",
       "14  Miami-Dade        Florida  2019               2407218   \n",
       "15    Hartford    Connecticut  2019               2407219   \n",
       "16     El Paso       Colorado  2019               2407220   \n",
       "17  Washington       Oklahoma  2019               2407221   \n",
       "18        Polk        Florida  2019               2407223   \n",
       "19     Suffolk  Massachusetts  2019               2407224   \n",
       "\n",
       "    Total Monthly Income Amount  Borrower 1 Age            Borrower 1 Race  \\\n",
       "0                          7308            34.0                      White   \n",
       "1                          7416            36.0                      White   \n",
       "2                          5143            34.0                      White   \n",
       "3                          8866            42.0                      White   \n",
       "4                         15240            66.0                      White   \n",
       "5                          5424            23.0                      White   \n",
       "6                         10165            48.0                      White   \n",
       "7                          9678            33.0                      White   \n",
       "8                          7565            30.0                      White   \n",
       "9                         11416            44.0                      White   \n",
       "10                        16425            62.0                      White   \n",
       "11                         4382            27.0                      White   \n",
       "12                         4753            28.0                      White   \n",
       "13                         8565            32.0                      White   \n",
       "14                         9505            39.0  Black or African American   \n",
       "15                        10890            35.0                      White   \n",
       "16                         6749            61.0                      White   \n",
       "17                         9856            53.0                      White   \n",
       "18                         2557            65.0                      White   \n",
       "19                         4170            34.0                    Unknown   \n",
       "\n",
       "   Borrower 1 Gender  Borrower 1 Credit Score Value  Property Unit Count  ...  \\\n",
       "0             Female                              1                    1  ...   \n",
       "1             Female                              3                    1  ...   \n",
       "2               Male                              2                    1  ...   \n",
       "3               Male                              4                    1  ...   \n",
       "4             Female                              5                    1  ...   \n",
       "5               Male                              3                    1  ...   \n",
       "6             Female                              5                    1  ...   \n",
       "7               Male                              3                    1  ...   \n",
       "8               Male                              5                    1  ...   \n",
       "9             Female                              5                    1  ...   \n",
       "10              Male                              5                    1  ...   \n",
       "11            Female                              5                    1  ...   \n",
       "12              Male                              4                    1  ...   \n",
       "13              Male                              4                    1  ...   \n",
       "14              Male                              5                    1  ...   \n",
       "15              Male                              5                    1  ...   \n",
       "16            Female                              5                    1  ...   \n",
       "17            Female                              4                    1  ...   \n",
       "18              Male                              5                    1  ...   \n",
       "19           Unknown                              5                    1  ...   \n",
       "\n",
       "    Total Debt Expense Ratio Percent  Loan Purpose  Mortgage Type  \\\n",
       "0                              40.46      Purchase            FHA   \n",
       "1                              45.67      Purchase            FHA   \n",
       "2                              46.23      Purchase            FHA   \n",
       "3                              36.88      Purchase             VA   \n",
       "4                              34.95      Purchase   Conventional   \n",
       "5                              42.04      Purchase   Conventional   \n",
       "6                              39.82      Purchase   Conventional   \n",
       "7                              34.49      Purchase   Conventional   \n",
       "8                              43.24      Purchase   Conventional   \n",
       "9                              39.57      Purchase   Conventional   \n",
       "10                             34.63      Purchase   Conventional   \n",
       "11                             43.84      Purchase   Conventional   \n",
       "12                             30.73      Purchase   Conventional   \n",
       "13                             38.47      Purchase   Conventional   \n",
       "14                             47.40      Purchase   Conventional   \n",
       "15                             18.39      Purchase   Conventional   \n",
       "16                             36.52      Purchase   Conventional   \n",
       "17                             32.89      Purchase   Conventional   \n",
       "18                             49.47      Purchase   Conventional   \n",
       "19                             34.00      Purchase   Conventional   \n",
       "\n",
       "   First Time Homebuyer       Property Usage           Property Type  \\\n",
       "0                   Yes  Principal Residence  Single family detached   \n",
       "1                    No  Principal Residence  Single family detached   \n",
       "2                    No  Principal Residence  Single family detached   \n",
       "3                    No  Principal Residence  Single family detached   \n",
       "4                   Yes  Principal Residence  Single family detached   \n",
       "5                   Yes  Principal Residence  Single family detached   \n",
       "6                   Yes  Principal Residence          Low-rise condo   \n",
       "7                    No  Principal Residence          Low-rise condo   \n",
       "8                   Yes  Principal Residence  Single family detached   \n",
       "9                   Yes  Principal Residence  Single family detached   \n",
       "10                  Yes  Principal Residence  Single family detached   \n",
       "11                   No  Principal Residence  Single family detached   \n",
       "12                   No  Principal Residence  Single family detached   \n",
       "13                   No  Principal Residence  Single family detached   \n",
       "14                   No          Second Home                     PUD   \n",
       "15                   No  Principal Residence  Single family detached   \n",
       "16                   No          Second Home  Single family detached   \n",
       "17                  Yes          Second Home  Single family detached   \n",
       "18                   No  Principal Residence                     PUD   \n",
       "19                  Yes  Principal Residence          Low-rise condo   \n",
       "\n",
       "   Loan Count Borrower Count  Total Loan Count per State  \\\n",
       "0           1              1                         332   \n",
       "1           1              2                         332   \n",
       "2           1              2                         332   \n",
       "3           1              2                         332   \n",
       "4           1              1                         229   \n",
       "5           1              2                         229   \n",
       "6           1              1                        1441   \n",
       "7           1              2                        1441   \n",
       "8           1              3                        1441   \n",
       "9           1              2                        1441   \n",
       "10          1              1                        1441   \n",
       "11          1              1                        1441   \n",
       "12          1              1                         229   \n",
       "13          1              2                         229   \n",
       "14          1              1                        1302   \n",
       "15          1              1                         335   \n",
       "16          1              1                        2501   \n",
       "17          1              1                        1505   \n",
       "18          1              1                        1302   \n",
       "19          1              1                        1441   \n",
       "\n",
       "    Max Note Amount per State  \n",
       "0                      547560  \n",
       "1                      547560  \n",
       "2                      547560  \n",
       "3                      547560  \n",
       "4                      575000  \n",
       "5                      575000  \n",
       "6                      828700  \n",
       "7                      828700  \n",
       "8                      828700  \n",
       "9                      828700  \n",
       "10                     828700  \n",
       "11                     828700  \n",
       "12                     575000  \n",
       "13                     575000  \n",
       "14                     647200  \n",
       "15                     647200  \n",
       "16                     650000  \n",
       "17                     647200  \n",
       "18                     647200  \n",
       "19                     828700  \n",
       "\n",
       "[20 rows x 22 columns]"
      ]
     },
     "execution_count": 6,
     "metadata": {},
     "output_type": "execute_result"
    }
   ],
   "source": [
    "df.head(20)"
   ]
  },
  {
   "cell_type": "code",
   "execution_count": 7,
   "metadata": {
    "scrolled": true
   },
   "outputs": [
    {
     "data": {
      "text/plain": [
       "(101202, 22)"
      ]
     },
     "execution_count": 7,
     "metadata": {},
     "output_type": "execute_result"
    }
   ],
   "source": [
    "df.shape"
   ]
  },
  {
   "cell_type": "markdown",
   "metadata": {},
   "source": [
    "##### Missing values"
   ]
  },
  {
   "cell_type": "code",
   "execution_count": 8,
   "metadata": {},
   "outputs": [
    {
     "data": {
      "text/plain": [
       "County                              0\n",
       "State                               0\n",
       "Year                                0\n",
       "LoanCharacteristicsID               0\n",
       "Total Monthly Income Amount         0\n",
       "Borrower 1 Age                      0\n",
       "Borrower 1 Race                     0\n",
       "Borrower 1 Gender                   0\n",
       "Borrower 1 Credit Score Value       0\n",
       "Property Unit Count                 0\n",
       "Note Rate Percent                   0\n",
       "Note Amount                         0\n",
       "Total Debt Expense Ratio Percent    0\n",
       "Loan Purpose                        0\n",
       "Mortgage Type                       0\n",
       "First Time Homebuyer                0\n",
       "Property Usage                      0\n",
       "Property Type                       0\n",
       "Loan Count                          0\n",
       "Borrower Count                      0\n",
       "Total Loan Count per State          0\n",
       "Max Note Amount per State           0\n",
       "dtype: int64"
      ]
     },
     "execution_count": 8,
     "metadata": {},
     "output_type": "execute_result"
    }
   ],
   "source": [
    "# Check for missing values\n",
    "\n",
    "df.isnull().sum()\n",
    "\n",
    "# No missing values to handle"
   ]
  },
  {
   "cell_type": "markdown",
   "metadata": {},
   "source": [
    "##### Duplicates check"
   ]
  },
  {
   "cell_type": "code",
   "execution_count": 9,
   "metadata": {},
   "outputs": [],
   "source": [
    "dups = df.duplicated()"
   ]
  },
  {
   "cell_type": "code",
   "execution_count": 10,
   "metadata": {},
   "outputs": [
    {
     "data": {
      "text/plain": [
       "(101202,)"
      ]
     },
     "execution_count": 10,
     "metadata": {},
     "output_type": "execute_result"
    }
   ],
   "source": [
    "dups.shape # No dups"
   ]
  },
  {
   "cell_type": "markdown",
   "metadata": {},
   "source": [
    "##### Extreme values checks"
   ]
  },
  {
   "cell_type": "code",
   "execution_count": 11,
   "metadata": {
    "scrolled": true
   },
   "outputs": [
    {
     "name": "stderr",
     "output_type": "stream",
     "text": [
      "C:\\Users\\jomok\\AppData\\Local\\Temp\\ipykernel_20048\\913590365.py:1: UserWarning: \n",
      "\n",
      "`distplot` is a deprecated function and will be removed in seaborn v0.14.0.\n",
      "\n",
      "Please adapt your code to use either `displot` (a figure-level function with\n",
      "similar flexibility) or `histplot` (an axes-level function for histograms).\n",
      "\n",
      "For a guide to updating your code to use the new functions, please see\n",
      "https://gist.github.com/mwaskom/de44147ed2974457ad6372750bbe5751\n",
      "\n",
      "  sns.distplot(df['Note Amount'], bins=25) # Shows extreme values\n"
     ]
    },
    {
     "data": {
      "text/plain": [
       "<Axes: xlabel='Note Amount', ylabel='Density'>"
      ]
     },
     "execution_count": 11,
     "metadata": {},
     "output_type": "execute_result"
    },
    {
     "data": {
      "image/png": "[encoded data removed]",
      "text/plain": [
       "<Figure size 640x480 with 1 Axes>"
      ]
     },
     "metadata": {},
     "output_type": "display_data"
    }
   ],
   "source": [
    "sns.distplot(df['Note Amount'], bins=25) # Shows extreme values\n",
    "\n",
    "# Some of the outliers in the high values may need to be removed, but let's try without doing so first."
   ]
  },
  {
   "cell_type": "code",
   "execution_count": 12,
   "metadata": {},
   "outputs": [
    {
     "data": {
      "text/plain": [
       "236712.70407699453"
      ]
     },
     "execution_count": 12,
     "metadata": {},
     "output_type": "execute_result"
    }
   ],
   "source": [
    "df['Note Amount'].mean() # Check the mean"
   ]
  },
  {
   "cell_type": "code",
   "execution_count": 13,
   "metadata": {},
   "outputs": [
    {
     "data": {
      "text/plain": [
       "213600.0"
      ]
     },
     "execution_count": 13,
     "metadata": {},
     "output_type": "execute_result"
    }
   ],
   "source": [
    "df['Note Amount'].median() # Check the median"
   ]
  },
  {
   "cell_type": "code",
   "execution_count": 14,
   "metadata": {},
   "outputs": [
    {
     "data": {
      "text/plain": [
       "1300000"
      ]
     },
     "execution_count": 14,
     "metadata": {},
     "output_type": "execute_result"
    }
   ],
   "source": [
    "df['Note Amount'].max() # Check the max"
   ]
  },
  {
   "cell_type": "markdown",
   "metadata": {},
   "source": [
    "### Step 4 - Visually explore relationship between variables"
   ]
  },
  {
   "cell_type": "code",
   "execution_count": 15,
   "metadata": {
    "scrolled": true
   },
   "outputs": [
    {
     "data": {
      "image/png": "[encoded data removed]",
      "text/plain": [
       "<Figure size 640x480 with 1 Axes>"
      ]
     },
     "metadata": {},
     "output_type": "display_data"
    }
   ],
   "source": [
    "# Create a scatterplot using matplotlib for another look at how the chosen variables plot against each other.\n",
    "\n",
    "df.plot(x = 'Total Monthly Income Amount', y='Note Amount',style='o') # The style option creates a scatterplot; without it, we only have lines.\n",
    "plt.title('Monthly Income vs Purchase Price') \n",
    "plt.xlabel('Total Monthly Income Amount')  \n",
    "plt.ylabel('Note Amount')  \n",
    "plt.show()"
   ]
  },
  {
   "cell_type": "code",
   "execution_count": 16,
   "metadata": {},
   "outputs": [],
   "source": [
    "# Clean the extreme values from the \"Total Monthly Income\" variables.\n",
    "\n",
    "df_test = df[df['Total Monthly Income Amount'] <=150000] "
   ]
  },
  {
   "cell_type": "code",
   "execution_count": 17,
   "metadata": {},
   "outputs": [
    {
     "data": {
      "image/png": "[encoded data removed]",
      "text/plain": [
       "<Figure size 640x480 with 1 Axes>"
      ]
     },
     "metadata": {},
     "output_type": "display_data"
    }
   ],
   "source": [
    "# See how the scatterplot looks without outliers.\n",
    "\n",
    "df_test.plot(x = 'Total Monthly Income Amount', y='Note Amount', style='o')  \n",
    "plt.title('Monthly Income vs Purchase Price')  \n",
    "plt.xlabel('Total Monhtly Income Amount')  \n",
    "plt.ylabel('Note Amount')  \n",
    "plt.show()"
   ]
  },
  {
   "cell_type": "code",
   "execution_count": 18,
   "metadata": {},
   "outputs": [],
   "source": [
    "# Reshape.\n",
    "\n",
    "X_2 = df_test['Total Monthly Income Amount'].values.reshape(-1,1)\n",
    "y_2 = df_test['Note Amount'].values.reshape(-1,1)"
   ]
  },
  {
   "cell_type": "code",
   "execution_count": 19,
   "metadata": {
    "scrolled": true
   },
   "outputs": [],
   "source": [
    "X_train_2, X_test_2, y_train_2, y_test_2 = train_test_split(X_2, y_2, test_size=0.3, random_state=0)"
   ]
  },
  {
   "cell_type": "code",
   "execution_count": 20,
   "metadata": {},
   "outputs": [
    {
     "data": {
      "text/html": [
       "<style>#sk-container-id-1 {color: black;background-color: white;}#sk-container-id-1 pre{padding: 0;}#sk-container-id-1 div.sk-toggleable {background-color: white;}#sk-container-id-1 label.sk-toggleable__label {cursor: pointer;display: block;width: 100%;margin-bottom: 0;padding: 0.3em;box-sizing: border-box;text-align: center;}#sk-container-id-1 label.sk-toggleable__label-arrow:before {content: \"▸\";float: left;margin-right: 0.25em;color: #696969;}#sk-container-id-1 label.sk-toggleable__label-arrow:hover:before {color: black;}#sk-container-id-1 div.sk-estimator:hover label.sk-toggleable__label-arrow:before {color: black;}#sk-container-id-1 div.sk-toggleable__content {max-height: 0;max-width: 0;overflow: hidden;text-align: left;background-color: #f0f8ff;}#sk-container-id-1 div.sk-toggleable__content pre {margin: 0.2em;color: black;border-radius: 0.25em;background-color: #f0f8ff;}#sk-container-id-1 input.sk-toggleable__control:checked~div.sk-toggleable__content {max-height: 200px;max-width: 100%;overflow: auto;}#sk-container-id-1 input.sk-toggleable__control:checked~label.sk-toggleable__label-arrow:before {content: \"▾\";}#sk-container-id-1 div.sk-estimator input.sk-toggleable__control:checked~label.sk-toggleable__label {background-color: #d4ebff;}#sk-container-id-1 div.sk-label input.sk-toggleable__control:checked~label.sk-toggleable__label {background-color: #d4ebff;}#sk-container-id-1 input.sk-hidden--visually {border: 0;clip: rect(1px 1px 1px 1px);clip: rect(1px, 1px, 1px, 1px);height: 1px;margin: -1px;overflow: hidden;padding: 0;position: absolute;width: 1px;}#sk-container-id-1 div.sk-estimator {font-family: monospace;background-color: #f0f8ff;border: 1px dotted black;border-radius: 0.25em;box-sizing: border-box;margin-bottom: 0.5em;}#sk-container-id-1 div.sk-estimator:hover {background-color: #d4ebff;}#sk-container-id-1 div.sk-parallel-item::after {content: \"\";width: 100%;border-bottom: 1px solid gray;flex-grow: 1;}#sk-container-id-1 div.sk-label:hover label.sk-toggleable__label {background-color: #d4ebff;}#sk-container-id-1 div.sk-serial::before {content: \"\";position: absolute;border-left: 1px solid gray;box-sizing: border-box;top: 0;bottom: 0;left: 50%;z-index: 0;}#sk-container-id-1 div.sk-serial {display: flex;flex-direction: column;align-items: center;background-color: white;padding-right: 0.2em;padding-left: 0.2em;position: relative;}#sk-container-id-1 div.sk-item {position: relative;z-index: 1;}#sk-container-id-1 div.sk-parallel {display: flex;align-items: stretch;justify-content: center;background-color: white;position: relative;}#sk-container-id-1 div.sk-item::before, #sk-container-id-1 div.sk-parallel-item::before {content: \"\";position: absolute;border-left: 1px solid gray;box-sizing: border-box;top: 0;bottom: 0;left: 50%;z-index: -1;}#sk-container-id-1 div.sk-parallel-item {display: flex;flex-direction: column;z-index: 1;position: relative;background-color: white;}#sk-container-id-1 div.sk-parallel-item:first-child::after {align-self: flex-end;width: 50%;}#sk-container-id-1 div.sk-parallel-item:last-child::after {align-self: flex-start;width: 50%;}#sk-container-id-1 div.sk-parallel-item:only-child::after {width: 0;}#sk-container-id-1 div.sk-dashed-wrapped {border: 1px dashed gray;margin: 0 0.4em 0.5em 0.4em;box-sizing: border-box;padding-bottom: 0.4em;background-color: white;}#sk-container-id-1 div.sk-label label {font-family: monospace;font-weight: bold;display: inline-block;line-height: 1.2em;}#sk-container-id-1 div.sk-label-container {text-align: center;}#sk-container-id-1 div.sk-container {/* jupyter's `normalize.less` sets `[hidden] { display: none; }` but bootstrap.min.css set `[hidden] { display: none !important; }` so we also need the `!important` here to be able to override the default hidden behavior on the sphinx rendered scikit-learn.org. See: https://github.com/scikit-learn/scikit-learn/issues/21755 */display: inline-block !important;position: relative;}#sk-container-id-1 div.sk-text-repr-fallback {display: none;}</style><div id=\"sk-container-id-1\" class=\"sk-top-container\"><div class=\"sk-text-repr-fallback\"><pre>LinearRegression()</pre><b>In a Jupyter environment, please rerun this cell to show the HTML representation or trust the notebook. <br />On GitHub, the HTML representation is unable to render, please try loading this page with nbviewer.org.</b></div><div class=\"sk-container\" hidden><div class=\"sk-item\"><div class=\"sk-estimator sk-toggleable\"><input class=\"sk-toggleable__control sk-hidden--visually\" id=\"sk-estimator-id-1\" type=\"checkbox\" checked><label for=\"sk-estimator-id-1\" class=\"sk-toggleable__label sk-toggleable__label-arrow\">LinearRegression</label><div class=\"sk-toggleable__content\"><pre>LinearRegression()</pre></div></div></div></div></div>"
      ],
      "text/plain": [
       "LinearRegression()"
      ]
     },
     "execution_count": 20,
     "metadata": {},
     "output_type": "execute_result"
    }
   ],
   "source": [
    "# Run and fit the regression.\n",
    "\n",
    "regression = LinearRegression()  \n",
    "regression.fit(X_train_2, y_train_2)"
   ]
  },
  {
   "cell_type": "code",
   "execution_count": 21,
   "metadata": {},
   "outputs": [],
   "source": [
    "# Predict.\n",
    "\n",
    "y_predicted_2 = regression.predict(X_test_2)"
   ]
  },
  {
   "cell_type": "code",
   "execution_count": 22,
   "metadata": {},
   "outputs": [],
   "source": [
    "rmse = mean_squared_error(y_test_2, y_predicted_2)\n",
    "r2 = r2_score(y_test_2, y_predicted_2)"
   ]
  },
  {
   "cell_type": "code",
   "execution_count": 23,
   "metadata": {},
   "outputs": [
    {
     "name": "stdout",
     "output_type": "stream",
     "text": [
      "Slope: [[9.21772404]]\n",
      "Mean squared error:  11995908132.238981\n",
      "R2 score:  0.27746224345948356\n"
     ]
    }
   ],
   "source": [
    "print('Slope:' ,regression.coef_)\n",
    "print('Mean squared error: ', rmse)\n",
    "print('R2 score: ', r2)"
   ]
  },
  {
   "cell_type": "code",
   "execution_count": 24,
   "metadata": {
    "scrolled": true
   },
   "outputs": [
    {
     "data": {
      "image/png": "[encoded data removed]",
      "text/plain": [
       "<Figure size 640x480 with 1 Axes>"
      ]
     },
     "metadata": {},
     "output_type": "display_data"
    }
   ],
   "source": [
    "# Visualizing the test set results.\n",
    "plot_test = plt\n",
    "plot_test.scatter(X_test_2, y_test_2, color='gray', s = 15)\n",
    "plot_test.plot(X_test_2, y_predicted_2, color='red', linewidth =3)\n",
    "plot_test.title('Monthly Income vs Purchase Price (Test set)')\n",
    "plot_test.xlabel('Total Monthly Income Amount')\n",
    "plot_test.ylabel('Note Amount')\n",
    "plot_test.show()"
   ]
  },
  {
   "cell_type": "code",
   "execution_count": 25,
   "metadata": {
    "scrolled": true
   },
   "outputs": [
    {
     "data": {
      "text/html": [
       "<div>\n",
       "<style scoped>\n",
       "    .dataframe tbody tr th:only-of-type {\n",
       "        vertical-align: middle;\n",
       "    }\n",
       "\n",
       "    .dataframe tbody tr th {\n",
       "        vertical-align: top;\n",
       "    }\n",
       "\n",
       "    .dataframe thead th {\n",
       "        text-align: right;\n",
       "    }\n",
       "</style>\n",
       "<table border=\"1\" class=\"dataframe\">\n",
       "  <thead>\n",
       "    <tr style=\"text-align: right;\">\n",
       "      <th></th>\n",
       "      <th>Actual</th>\n",
       "      <th>Predicted</th>\n",
       "    </tr>\n",
       "  </thead>\n",
       "  <tbody>\n",
       "    <tr>\n",
       "      <th>0</th>\n",
       "      <td>424000</td>\n",
       "      <td>266712.290772</td>\n",
       "    </tr>\n",
       "    <tr>\n",
       "      <th>1</th>\n",
       "      <td>216600</td>\n",
       "      <td>235703.867091</td>\n",
       "    </tr>\n",
       "    <tr>\n",
       "      <th>2</th>\n",
       "      <td>249750</td>\n",
       "      <td>261854.550201</td>\n",
       "    </tr>\n",
       "    <tr>\n",
       "      <th>3</th>\n",
       "      <td>400000</td>\n",
       "      <td>237298.533351</td>\n",
       "    </tr>\n",
       "    <tr>\n",
       "      <th>4</th>\n",
       "      <td>312000</td>\n",
       "      <td>290134.527565</td>\n",
       "    </tr>\n",
       "    <tr>\n",
       "      <th>5</th>\n",
       "      <td>96000</td>\n",
       "      <td>185467.271057</td>\n",
       "    </tr>\n",
       "    <tr>\n",
       "      <th>6</th>\n",
       "      <td>236000</td>\n",
       "      <td>210336.690525</td>\n",
       "    </tr>\n",
       "    <tr>\n",
       "      <th>7</th>\n",
       "      <td>272832</td>\n",
       "      <td>202114.480679</td>\n",
       "    </tr>\n",
       "    <tr>\n",
       "      <th>8</th>\n",
       "      <td>268000</td>\n",
       "      <td>238229.523479</td>\n",
       "    </tr>\n",
       "    <tr>\n",
       "      <th>9</th>\n",
       "      <td>346750</td>\n",
       "      <td>230071.837701</td>\n",
       "    </tr>\n",
       "    <tr>\n",
       "      <th>10</th>\n",
       "      <td>221000</td>\n",
       "      <td>250083.516598</td>\n",
       "    </tr>\n",
       "    <tr>\n",
       "      <th>11</th>\n",
       "      <td>115900</td>\n",
       "      <td>167953.595376</td>\n",
       "    </tr>\n",
       "    <tr>\n",
       "      <th>12</th>\n",
       "      <td>408000</td>\n",
       "      <td>256969.156459</td>\n",
       "    </tr>\n",
       "    <tr>\n",
       "      <th>13</th>\n",
       "      <td>240000</td>\n",
       "      <td>264638.302862</td>\n",
       "    </tr>\n",
       "    <tr>\n",
       "      <th>14</th>\n",
       "      <td>232000</td>\n",
       "      <td>210871.318520</td>\n",
       "    </tr>\n",
       "    <tr>\n",
       "      <th>15</th>\n",
       "      <td>311100</td>\n",
       "      <td>203819.759627</td>\n",
       "    </tr>\n",
       "    <tr>\n",
       "      <th>16</th>\n",
       "      <td>100000</td>\n",
       "      <td>235445.770818</td>\n",
       "    </tr>\n",
       "    <tr>\n",
       "      <th>17</th>\n",
       "      <td>198000</td>\n",
       "      <td>210355.125973</td>\n",
       "    </tr>\n",
       "    <tr>\n",
       "      <th>18</th>\n",
       "      <td>296910</td>\n",
       "      <td>225250.968027</td>\n",
       "    </tr>\n",
       "    <tr>\n",
       "      <th>19</th>\n",
       "      <td>379900</td>\n",
       "      <td>199256.986225</td>\n",
       "    </tr>\n",
       "    <tr>\n",
       "      <th>20</th>\n",
       "      <td>152000</td>\n",
       "      <td>247705.343795</td>\n",
       "    </tr>\n",
       "    <tr>\n",
       "      <th>21</th>\n",
       "      <td>130500</td>\n",
       "      <td>172995.690427</td>\n",
       "    </tr>\n",
       "    <tr>\n",
       "      <th>22</th>\n",
       "      <td>97000</td>\n",
       "      <td>193505.126423</td>\n",
       "    </tr>\n",
       "    <tr>\n",
       "      <th>23</th>\n",
       "      <td>395000</td>\n",
       "      <td>218558.900371</td>\n",
       "    </tr>\n",
       "    <tr>\n",
       "      <th>24</th>\n",
       "      <td>320000</td>\n",
       "      <td>243114.917222</td>\n",
       "    </tr>\n",
       "    <tr>\n",
       "      <th>25</th>\n",
       "      <td>226100</td>\n",
       "      <td>218844.649817</td>\n",
       "    </tr>\n",
       "    <tr>\n",
       "      <th>26</th>\n",
       "      <td>230400</td>\n",
       "      <td>230081.055425</td>\n",
       "    </tr>\n",
       "    <tr>\n",
       "      <th>27</th>\n",
       "      <td>50000</td>\n",
       "      <td>224356.848794</td>\n",
       "    </tr>\n",
       "    <tr>\n",
       "      <th>28</th>\n",
       "      <td>546250</td>\n",
       "      <td>305740.134370</td>\n",
       "    </tr>\n",
       "    <tr>\n",
       "      <th>29</th>\n",
       "      <td>244828</td>\n",
       "      <td>199349.163466</td>\n",
       "    </tr>\n",
       "  </tbody>\n",
       "</table>\n",
       "</div>"
      ],
      "text/plain": [
       "    Actual      Predicted\n",
       "0   424000  266712.290772\n",
       "1   216600  235703.867091\n",
       "2   249750  261854.550201\n",
       "3   400000  237298.533351\n",
       "4   312000  290134.527565\n",
       "5    96000  185467.271057\n",
       "6   236000  210336.690525\n",
       "7   272832  202114.480679\n",
       "8   268000  238229.523479\n",
       "9   346750  230071.837701\n",
       "10  221000  250083.516598\n",
       "11  115900  167953.595376\n",
       "12  408000  256969.156459\n",
       "13  240000  264638.302862\n",
       "14  232000  210871.318520\n",
       "15  311100  203819.759627\n",
       "16  100000  235445.770818\n",
       "17  198000  210355.125973\n",
       "18  296910  225250.968027\n",
       "19  379900  199256.986225\n",
       "20  152000  247705.343795\n",
       "21  130500  172995.690427\n",
       "22   97000  193505.126423\n",
       "23  395000  218558.900371\n",
       "24  320000  243114.917222\n",
       "25  226100  218844.649817\n",
       "26  230400  230081.055425\n",
       "27   50000  224356.848794\n",
       "28  546250  305740.134370\n",
       "29  244828  199349.163466"
      ]
     },
     "execution_count": 25,
     "metadata": {},
     "output_type": "execute_result"
    }
   ],
   "source": [
    "data = pd.DataFrame({'Actual': y_test_2.flatten(), 'Predicted': y_predicted_2.flatten()})\n",
    "data.head(30)"
   ]
  },
  {
   "cell_type": "markdown",
   "metadata": {},
   "source": [
    "### Step 5 - Hypothesis:  The more spending power that the borrower has, the more they will spend to purchase a home.\n",
    "\n"
   ]
  },
  {
   "cell_type": "markdown",
   "metadata": {},
   "source": [
    "### Step 6 - Reshape variables into NumPy arrays"
   ]
  },
  {
   "cell_type": "code",
   "execution_count": 26,
   "metadata": {},
   "outputs": [],
   "source": [
    "# Reshape the variables into NumPy arrays and put them into separate objects.\n",
    "\n",
    "X = df_test['Total Monthly Income Amount'].values.reshape(-1,1)\n",
    "y = df_test['Note Amount'].values.reshape(-1,1)"
   ]
  },
  {
   "cell_type": "code",
   "execution_count": 27,
   "metadata": {},
   "outputs": [
    {
     "data": {
      "text/plain": [
       "array([[ 7308],\n",
       "       [ 7416],\n",
       "       [ 5143],\n",
       "       ...,\n",
       "       [ 9475],\n",
       "       [43000],\n",
       "       [ 6086]], dtype=int64)"
      ]
     },
     "execution_count": 27,
     "metadata": {},
     "output_type": "execute_result"
    }
   ],
   "source": [
    "X"
   ]
  },
  {
   "cell_type": "code",
   "execution_count": 28,
   "metadata": {},
   "outputs": [
    {
     "data": {
      "text/plain": [
       "array([[319113],\n",
       "       [248005],\n",
       "       [211105],\n",
       "       ...,\n",
       "       [386500],\n",
       "       [385500],\n",
       "       [237000]], dtype=int64)"
      ]
     },
     "execution_count": 28,
     "metadata": {},
     "output_type": "execute_result"
    }
   ],
   "source": [
    "y"
   ]
  },
  {
   "cell_type": "markdown",
   "metadata": {},
   "source": [
    "### Step 7 - Split the data into training and test set"
   ]
  },
  {
   "cell_type": "code",
   "execution_count": 29,
   "metadata": {},
   "outputs": [],
   "source": [
    "# Split data into a training set and a test set.\n",
    "\n",
    "X_train, X_test, y_train, y_test = train_test_split(X, y, test_size=0.3, random_state=0)"
   ]
  },
  {
   "cell_type": "markdown",
   "metadata": {},
   "source": [
    "### Step 8 - Run a linear regression on the data"
   ]
  },
  {
   "cell_type": "code",
   "execution_count": 30,
   "metadata": {},
   "outputs": [],
   "source": [
    "# Create a regression object.\n",
    "\n",
    "regression = LinearRegression()  # This is the regression object, which will be fit onto the training set."
   ]
  },
  {
   "cell_type": "code",
   "execution_count": 31,
   "metadata": {},
   "outputs": [
    {
     "data": {
      "text/html": [
       "<style>#sk-container-id-2 {color: black;background-color: white;}#sk-container-id-2 pre{padding: 0;}#sk-container-id-2 div.sk-toggleable {background-color: white;}#sk-container-id-2 label.sk-toggleable__label {cursor: pointer;display: block;width: 100%;margin-bottom: 0;padding: 0.3em;box-sizing: border-box;text-align: center;}#sk-container-id-2 label.sk-toggleable__label-arrow:before {content: \"▸\";float: left;margin-right: 0.25em;color: #696969;}#sk-container-id-2 label.sk-toggleable__label-arrow:hover:before {color: black;}#sk-container-id-2 div.sk-estimator:hover label.sk-toggleable__label-arrow:before {color: black;}#sk-container-id-2 div.sk-toggleable__content {max-height: 0;max-width: 0;overflow: hidden;text-align: left;background-color: #f0f8ff;}#sk-container-id-2 div.sk-toggleable__content pre {margin: 0.2em;color: black;border-radius: 0.25em;background-color: #f0f8ff;}#sk-container-id-2 input.sk-toggleable__control:checked~div.sk-toggleable__content {max-height: 200px;max-width: 100%;overflow: auto;}#sk-container-id-2 input.sk-toggleable__control:checked~label.sk-toggleable__label-arrow:before {content: \"▾\";}#sk-container-id-2 div.sk-estimator input.sk-toggleable__control:checked~label.sk-toggleable__label {background-color: #d4ebff;}#sk-container-id-2 div.sk-label input.sk-toggleable__control:checked~label.sk-toggleable__label {background-color: #d4ebff;}#sk-container-id-2 input.sk-hidden--visually {border: 0;clip: rect(1px 1px 1px 1px);clip: rect(1px, 1px, 1px, 1px);height: 1px;margin: -1px;overflow: hidden;padding: 0;position: absolute;width: 1px;}#sk-container-id-2 div.sk-estimator {font-family: monospace;background-color: #f0f8ff;border: 1px dotted black;border-radius: 0.25em;box-sizing: border-box;margin-bottom: 0.5em;}#sk-container-id-2 div.sk-estimator:hover {background-color: #d4ebff;}#sk-container-id-2 div.sk-parallel-item::after {content: \"\";width: 100%;border-bottom: 1px solid gray;flex-grow: 1;}#sk-container-id-2 div.sk-label:hover label.sk-toggleable__label {background-color: #d4ebff;}#sk-container-id-2 div.sk-serial::before {content: \"\";position: absolute;border-left: 1px solid gray;box-sizing: border-box;top: 0;bottom: 0;left: 50%;z-index: 0;}#sk-container-id-2 div.sk-serial {display: flex;flex-direction: column;align-items: center;background-color: white;padding-right: 0.2em;padding-left: 0.2em;position: relative;}#sk-container-id-2 div.sk-item {position: relative;z-index: 1;}#sk-container-id-2 div.sk-parallel {display: flex;align-items: stretch;justify-content: center;background-color: white;position: relative;}#sk-container-id-2 div.sk-item::before, #sk-container-id-2 div.sk-parallel-item::before {content: \"\";position: absolute;border-left: 1px solid gray;box-sizing: border-box;top: 0;bottom: 0;left: 50%;z-index: -1;}#sk-container-id-2 div.sk-parallel-item {display: flex;flex-direction: column;z-index: 1;position: relative;background-color: white;}#sk-container-id-2 div.sk-parallel-item:first-child::after {align-self: flex-end;width: 50%;}#sk-container-id-2 div.sk-parallel-item:last-child::after {align-self: flex-start;width: 50%;}#sk-container-id-2 div.sk-parallel-item:only-child::after {width: 0;}#sk-container-id-2 div.sk-dashed-wrapped {border: 1px dashed gray;margin: 0 0.4em 0.5em 0.4em;box-sizing: border-box;padding-bottom: 0.4em;background-color: white;}#sk-container-id-2 div.sk-label label {font-family: monospace;font-weight: bold;display: inline-block;line-height: 1.2em;}#sk-container-id-2 div.sk-label-container {text-align: center;}#sk-container-id-2 div.sk-container {/* jupyter's `normalize.less` sets `[hidden] { display: none; }` but bootstrap.min.css set `[hidden] { display: none !important; }` so we also need the `!important` here to be able to override the default hidden behavior on the sphinx rendered scikit-learn.org. See: https://github.com/scikit-learn/scikit-learn/issues/21755 */display: inline-block !important;position: relative;}#sk-container-id-2 div.sk-text-repr-fallback {display: none;}</style><div id=\"sk-container-id-2\" class=\"sk-top-container\"><div class=\"sk-text-repr-fallback\"><pre>LinearRegression()</pre><b>In a Jupyter environment, please rerun this cell to show the HTML representation or trust the notebook. <br />On GitHub, the HTML representation is unable to render, please try loading this page with nbviewer.org.</b></div><div class=\"sk-container\" hidden><div class=\"sk-item\"><div class=\"sk-estimator sk-toggleable\"><input class=\"sk-toggleable__control sk-hidden--visually\" id=\"sk-estimator-id-2\" type=\"checkbox\" checked><label for=\"sk-estimator-id-2\" class=\"sk-toggleable__label sk-toggleable__label-arrow\">LinearRegression</label><div class=\"sk-toggleable__content\"><pre>LinearRegression()</pre></div></div></div></div></div>"
      ],
      "text/plain": [
       "LinearRegression()"
      ]
     },
     "execution_count": 31,
     "metadata": {},
     "output_type": "execute_result"
    }
   ],
   "source": [
    "# Fit the regression object onto the training set.\n",
    "\n",
    "regression.fit(X_train, y_train)"
   ]
  },
  {
   "cell_type": "code",
   "execution_count": 32,
   "metadata": {},
   "outputs": [],
   "source": [
    "# Predict the values of y using X.\n",
    "\n",
    "y_predicted = regression.predict(X_test)"
   ]
  },
  {
   "cell_type": "markdown",
   "metadata": {},
   "source": [
    "### Step 9 - Create a plot that shows the regression line on the test data"
   ]
  },
  {
   "cell_type": "code",
   "execution_count": 33,
   "metadata": {},
   "outputs": [
    {
     "data": {
      "image/png": "[encoded data removed]",
      "text/plain": [
       "<Figure size 640x480 with 1 Axes>"
      ]
     },
     "metadata": {},
     "output_type": "display_data"
    }
   ],
   "source": [
    "# Create a plot that shows the regression line from the model on the test set.\n",
    "\n",
    "plot_test = plt\n",
    "plot_test.scatter(X_test, y_test, color='gray', s = 15)\n",
    "plot_test.plot(X_test, y_predicted, color='red', linewidth =3)\n",
    "plot_test.title('Monthly Income vs Purchase Price (Test set)')\n",
    "plot_test.xlabel('Income')\n",
    "plot_test.ylabel('Note Amount')\n",
    "plot_test.show()"
   ]
  },
  {
   "cell_type": "markdown",
   "metadata": {},
   "source": [
    "Interpretation of how well the line appears to fit the data in a markdown cell:\n",
    "\n"
   ]
  },
  {
   "cell_type": "markdown",
   "metadata": {},
   "source": [
    "### Step 11 - Check the model performance statistics"
   ]
  },
  {
   "cell_type": "code",
   "execution_count": 34,
   "metadata": {},
   "outputs": [],
   "source": [
    "# Create objects that contain the model summary statistics.\n",
    "\n",
    "rmse = mean_squared_error(y_test, y_predicted) # This is the mean squared error\n",
    "r2 = r2_score(y_test, y_predicted) # This is the R2 score. "
   ]
  },
  {
   "cell_type": "code",
   "execution_count": 35,
   "metadata": {},
   "outputs": [
    {
     "name": "stdout",
     "output_type": "stream",
     "text": [
      "Slope: [[9.21772404]]\n",
      "Mean squared error:  11995908132.238981\n",
      "R2 score:  0.27746224345948356\n"
     ]
    }
   ],
   "source": [
    "# Print the model summary statistics. This is where you evaluate the performance of the model.\n",
    "\n",
    "print('Slope:' ,regression.coef_)\n",
    "print('Mean squared error: ', rmse)\n",
    "print('R2 score: ', r2)"
   ]
  },
  {
   "cell_type": "markdown",
   "metadata": {},
   "source": [
    "### Step 12 - Compare the predicted y values with the actual y values"
   ]
  },
  {
   "cell_type": "code",
   "execution_count": 36,
   "metadata": {},
   "outputs": [
    {
     "data": {
      "text/plain": [
       "array([[266712.29077196],\n",
       "       [235703.86709138],\n",
       "       [261854.55020131],\n",
       "       ...,\n",
       "       [194804.8255127 ],\n",
       "       [190371.10024803],\n",
       "       [206391.50463472]])"
      ]
     },
     "execution_count": 36,
     "metadata": {},
     "output_type": "execute_result"
    }
   ],
   "source": [
    "y_predicted"
   ]
  },
  {
   "cell_type": "code",
   "execution_count": 37,
   "metadata": {},
   "outputs": [
    {
     "data": {
      "text/html": [
       "<div>\n",
       "<style scoped>\n",
       "    .dataframe tbody tr th:only-of-type {\n",
       "        vertical-align: middle;\n",
       "    }\n",
       "\n",
       "    .dataframe tbody tr th {\n",
       "        vertical-align: top;\n",
       "    }\n",
       "\n",
       "    .dataframe thead th {\n",
       "        text-align: right;\n",
       "    }\n",
       "</style>\n",
       "<table border=\"1\" class=\"dataframe\">\n",
       "  <thead>\n",
       "    <tr style=\"text-align: right;\">\n",
       "      <th></th>\n",
       "      <th>Actual</th>\n",
       "      <th>Predicted</th>\n",
       "    </tr>\n",
       "  </thead>\n",
       "  <tbody>\n",
       "    <tr>\n",
       "      <th>0</th>\n",
       "      <td>424000</td>\n",
       "      <td>266712.290772</td>\n",
       "    </tr>\n",
       "    <tr>\n",
       "      <th>1</th>\n",
       "      <td>216600</td>\n",
       "      <td>235703.867091</td>\n",
       "    </tr>\n",
       "    <tr>\n",
       "      <th>2</th>\n",
       "      <td>249750</td>\n",
       "      <td>261854.550201</td>\n",
       "    </tr>\n",
       "    <tr>\n",
       "      <th>3</th>\n",
       "      <td>400000</td>\n",
       "      <td>237298.533351</td>\n",
       "    </tr>\n",
       "    <tr>\n",
       "      <th>4</th>\n",
       "      <td>312000</td>\n",
       "      <td>290134.527565</td>\n",
       "    </tr>\n",
       "    <tr>\n",
       "      <th>5</th>\n",
       "      <td>96000</td>\n",
       "      <td>185467.271057</td>\n",
       "    </tr>\n",
       "    <tr>\n",
       "      <th>6</th>\n",
       "      <td>236000</td>\n",
       "      <td>210336.690525</td>\n",
       "    </tr>\n",
       "    <tr>\n",
       "      <th>7</th>\n",
       "      <td>272832</td>\n",
       "      <td>202114.480679</td>\n",
       "    </tr>\n",
       "    <tr>\n",
       "      <th>8</th>\n",
       "      <td>268000</td>\n",
       "      <td>238229.523479</td>\n",
       "    </tr>\n",
       "    <tr>\n",
       "      <th>9</th>\n",
       "      <td>346750</td>\n",
       "      <td>230071.837701</td>\n",
       "    </tr>\n",
       "    <tr>\n",
       "      <th>10</th>\n",
       "      <td>221000</td>\n",
       "      <td>250083.516598</td>\n",
       "    </tr>\n",
       "    <tr>\n",
       "      <th>11</th>\n",
       "      <td>115900</td>\n",
       "      <td>167953.595376</td>\n",
       "    </tr>\n",
       "    <tr>\n",
       "      <th>12</th>\n",
       "      <td>408000</td>\n",
       "      <td>256969.156459</td>\n",
       "    </tr>\n",
       "    <tr>\n",
       "      <th>13</th>\n",
       "      <td>240000</td>\n",
       "      <td>264638.302862</td>\n",
       "    </tr>\n",
       "    <tr>\n",
       "      <th>14</th>\n",
       "      <td>232000</td>\n",
       "      <td>210871.318520</td>\n",
       "    </tr>\n",
       "    <tr>\n",
       "      <th>15</th>\n",
       "      <td>311100</td>\n",
       "      <td>203819.759627</td>\n",
       "    </tr>\n",
       "    <tr>\n",
       "      <th>16</th>\n",
       "      <td>100000</td>\n",
       "      <td>235445.770818</td>\n",
       "    </tr>\n",
       "    <tr>\n",
       "      <th>17</th>\n",
       "      <td>198000</td>\n",
       "      <td>210355.125973</td>\n",
       "    </tr>\n",
       "    <tr>\n",
       "      <th>18</th>\n",
       "      <td>296910</td>\n",
       "      <td>225250.968027</td>\n",
       "    </tr>\n",
       "    <tr>\n",
       "      <th>19</th>\n",
       "      <td>379900</td>\n",
       "      <td>199256.986225</td>\n",
       "    </tr>\n",
       "    <tr>\n",
       "      <th>20</th>\n",
       "      <td>152000</td>\n",
       "      <td>247705.343795</td>\n",
       "    </tr>\n",
       "    <tr>\n",
       "      <th>21</th>\n",
       "      <td>130500</td>\n",
       "      <td>172995.690427</td>\n",
       "    </tr>\n",
       "    <tr>\n",
       "      <th>22</th>\n",
       "      <td>97000</td>\n",
       "      <td>193505.126423</td>\n",
       "    </tr>\n",
       "    <tr>\n",
       "      <th>23</th>\n",
       "      <td>395000</td>\n",
       "      <td>218558.900371</td>\n",
       "    </tr>\n",
       "    <tr>\n",
       "      <th>24</th>\n",
       "      <td>320000</td>\n",
       "      <td>243114.917222</td>\n",
       "    </tr>\n",
       "    <tr>\n",
       "      <th>25</th>\n",
       "      <td>226100</td>\n",
       "      <td>218844.649817</td>\n",
       "    </tr>\n",
       "    <tr>\n",
       "      <th>26</th>\n",
       "      <td>230400</td>\n",
       "      <td>230081.055425</td>\n",
       "    </tr>\n",
       "    <tr>\n",
       "      <th>27</th>\n",
       "      <td>50000</td>\n",
       "      <td>224356.848794</td>\n",
       "    </tr>\n",
       "    <tr>\n",
       "      <th>28</th>\n",
       "      <td>546250</td>\n",
       "      <td>305740.134370</td>\n",
       "    </tr>\n",
       "    <tr>\n",
       "      <th>29</th>\n",
       "      <td>244828</td>\n",
       "      <td>199349.163466</td>\n",
       "    </tr>\n",
       "  </tbody>\n",
       "</table>\n",
       "</div>"
      ],
      "text/plain": [
       "    Actual      Predicted\n",
       "0   424000  266712.290772\n",
       "1   216600  235703.867091\n",
       "2   249750  261854.550201\n",
       "3   400000  237298.533351\n",
       "4   312000  290134.527565\n",
       "5    96000  185467.271057\n",
       "6   236000  210336.690525\n",
       "7   272832  202114.480679\n",
       "8   268000  238229.523479\n",
       "9   346750  230071.837701\n",
       "10  221000  250083.516598\n",
       "11  115900  167953.595376\n",
       "12  408000  256969.156459\n",
       "13  240000  264638.302862\n",
       "14  232000  210871.318520\n",
       "15  311100  203819.759627\n",
       "16  100000  235445.770818\n",
       "17  198000  210355.125973\n",
       "18  296910  225250.968027\n",
       "19  379900  199256.986225\n",
       "20  152000  247705.343795\n",
       "21  130500  172995.690427\n",
       "22   97000  193505.126423\n",
       "23  395000  218558.900371\n",
       "24  320000  243114.917222\n",
       "25  226100  218844.649817\n",
       "26  230400  230081.055425\n",
       "27   50000  224356.848794\n",
       "28  546250  305740.134370\n",
       "29  244828  199349.163466"
      ]
     },
     "execution_count": 37,
     "metadata": {},
     "output_type": "execute_result"
    }
   ],
   "source": [
    "# Create a dataframe comparing the actual and predicted values of y.\n",
    "\n",
    "data = pd.DataFrame({'Actual': y_test.flatten(), 'Predicted': y_predicted.flatten()})\n",
    "data.head(30)"
   ]
  },
  {
   "cell_type": "markdown",
   "metadata": {},
   "source": [
    "##### Compare how the regression fits the training set"
   ]
  },
  {
   "cell_type": "code",
   "execution_count": 38,
   "metadata": {},
   "outputs": [],
   "source": [
    "# Predict.\n",
    "\n",
    "y_predicted_train = regression.predict(X_train)"
   ]
  },
  {
   "cell_type": "code",
   "execution_count": 39,
   "metadata": {},
   "outputs": [],
   "source": [
    "rmse = mean_squared_error(y_train, y_predicted_train)\n",
    "r2 = r2_score(y_train, y_predicted_train)"
   ]
  },
  {
   "cell_type": "code",
   "execution_count": 40,
   "metadata": {},
   "outputs": [
    {
     "name": "stdout",
     "output_type": "stream",
     "text": [
      "Slope: [[9.21772404]]\n",
      "Mean squared error:  11917740892.727257\n",
      "R2 score:  0.279481623440231\n"
     ]
    }
   ],
   "source": [
    "print('Slope:' ,regression.coef_)\n",
    "print('Mean squared error: ', rmse)\n",
    "print('R2 score: ', r2)"
   ]
  },
  {
   "cell_type": "code",
   "execution_count": 41,
   "metadata": {},
   "outputs": [
    {
     "data": {
      "image/png": "[encoded data removed]",
      "text/plain": [
       "<Figure size 640x480 with 1 Axes>"
      ]
     },
     "metadata": {},
     "output_type": "display_data"
    }
   ],
   "source": [
    "# Visualizing the training set results.\n",
    "\n",
    "plot_test = plt\n",
    "plot_test.scatter(X_train, y_train, color='green', s = 15)\n",
    "plot_test.plot(X_train, y_predicted_train, color='red', linewidth =3)\n",
    "plot_test.title('Monthly Income vs Purchase Price (Train set)')\n",
    "plot_test.xlabel('Income')\n",
    "plot_test.ylabel('Note Amount')\n",
    "plot_test.show()"
   ]
  },
  {
   "cell_type": "markdown",
   "metadata": {},
   "source": [
    "### Step 13 - Thoughts on model performance on the test set\n",
    "\n",
    "The red regression line does not perfectly cover many of the data points\n",
    "In areas where Monthly Income is higher, the note amount is actually lower, which contradicts my hypothesis\n",
    "The slope value of 9.21772404 is a high positive, indicating a positive relationship:  as Monthly Income rises by a significant amount, so do Note Amounts.\n",
    "The root mean squared error (MSE) is extremely large at 11917740892.727257, indicating that the regression line is extremely far away from the data points and that the regression line is definitely not an accurate representation of the data, and cannot accurately predict the influence of Monthly Income Amount on the Note Amount.\n",
    "The R2 score is 0.279481623440231, which is closer to 0 than 1, indicating that the model is not a good fit.\n",
    "The physical check of the real vs. the predicted values o f y shows large differences between the actual and predicted y values, and adds evidence to the fact that the model is not going a great job of explaining the relationship between the \"Total Monthly Income Amount\" and \"Note Amount\" variables.\n",
    "The relationship does not follow a single, straight regression line, and so a single, straight regression line will not be able to accurately predict anything.\n",
    "The model fits the training set only slightly better than the test set, indicating that there is no overfitting of the model, but also confirms that the relationship between the two variables is not purely linear.\n",
    "\n",
    "\n",
    "Any reflections on the impact of possible data bias:  There may be collection bias in this data set as I am not sure of the accuracy of the data collection process."
   ]
  },
  {
   "cell_type": "code",
   "execution_count": null,
   "metadata": {},
   "outputs": [],
   "source": []
  }
 ],
 "metadata": {
  "kernelspec": {
   "display_name": "Python 3 (ipykernel)",
   "language": "python",
   "name": "python3"
  },
  "language_info": {
   "codemirror_mode": {
    "name": "ipython",
    "version": 3
   },
   "file_extension": ".py",
   "mimetype": "text/x-python",
   "name": "python",
   "nbconvert_exporter": "python",
   "pygments_lexer": "ipython3",
   "version": "3.11.3"
  }
 },
 "nbformat": 4,
 "nbformat_minor": 4
}
