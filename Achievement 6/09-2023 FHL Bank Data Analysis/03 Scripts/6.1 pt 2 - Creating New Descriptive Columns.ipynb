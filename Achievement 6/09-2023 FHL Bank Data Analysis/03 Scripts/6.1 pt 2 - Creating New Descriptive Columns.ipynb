{
 "cells": [
  {
   "cell_type": "markdown",
   "id": "2612e16f",
   "metadata": {},
   "source": [
    "## This script contains the following points:\n",
    "\n",
    "### 1. Import the data and libraries\n",
    "### 2. Create new columns\n",
    "### 3. Merge data with county list\n",
    "### 4. Create additional columns\n",
    "### 5. Export new dataframe"
   ]
  },
  {
   "cell_type": "markdown",
   "id": "c19a55fa",
   "metadata": {},
   "source": [
    "## 1. Import the data and libraries"
   ]
  },
  {
   "cell_type": "code",
   "execution_count": 1,
   "id": "83f89327",
   "metadata": {},
   "outputs": [],
   "source": [
    "# Import libraries\n",
    "\n",
    "import pandas as pd\n",
    "import numpy as np\n",
    "import os\n",
    "import matplotlib.pyplot as plt\n",
    "import seaborn as sns\n",
    "import scipy"
   ]
  },
  {
   "cell_type": "code",
   "execution_count": 2,
   "id": "313e08c1",
   "metadata": {},
   "outputs": [],
   "source": [
    "# Assign project folder path to a variable\n",
    "\n",
    "path = r'C:\\Users\\jomok\\Documents\\Career Foundry\\Achievement 6\\09-2023 FHL Bank Data Analysis'"
   ]
  },
  {
   "cell_type": "code",
   "execution_count": 3,
   "id": "aed9e7a6",
   "metadata": {},
   "outputs": [],
   "source": [
    "# Import data\n",
    "\n",
    "df = pd.read_pickle(os.path.join(path, '02 Data', 'Prepared Data', 'FHL_bank_data_combined.pkl'))"
   ]
  },
  {
   "cell_type": "code",
   "execution_count": 4,
   "id": "50ca59e2",
   "metadata": {},
   "outputs": [
    {
     "data": {
      "text/html": [
       "<div>\n",
       "<style scoped>\n",
       "    .dataframe tbody tr th:only-of-type {\n",
       "        vertical-align: middle;\n",
       "    }\n",
       "\n",
       "    .dataframe tbody tr th {\n",
       "        vertical-align: top;\n",
       "    }\n",
       "\n",
       "    .dataframe thead th {\n",
       "        text-align: right;\n",
       "    }\n",
       "</style>\n",
       "<table border=\"1\" class=\"dataframe\">\n",
       "  <thead>\n",
       "    <tr style=\"text-align: right;\">\n",
       "      <th></th>\n",
       "      <th>Year</th>\n",
       "      <th>LoanCharacteristicsID</th>\n",
       "      <th>State Code</th>\n",
       "      <th>County Code</th>\n",
       "      <th>Total Monthly Income Amount</th>\n",
       "      <th>Loan Purpose Type</th>\n",
       "      <th>Mortgage Type Code</th>\n",
       "      <th>Borrower Count</th>\n",
       "      <th>First Time Homebuyer Indicator</th>\n",
       "      <th>Borrower 1 Race Type</th>\n",
       "      <th>...</th>\n",
       "      <th>Property Usage Type</th>\n",
       "      <th>Property Unit Count</th>\n",
       "      <th>Note Rate Percent</th>\n",
       "      <th>Note Amount</th>\n",
       "      <th>Total Debt Expense Ratio Percent</th>\n",
       "      <th>Borrower 1 Credit Score Value</th>\n",
       "      <th>Borrower 2 Credit Score Value</th>\n",
       "      <th>Property Type Code</th>\n",
       "      <th>Borrower 1 Ethnicity Type</th>\n",
       "      <th>Borrower 2 Ethnicity Type</th>\n",
       "    </tr>\n",
       "  </thead>\n",
       "  <tbody>\n",
       "    <tr>\n",
       "      <th>0</th>\n",
       "      <td>2019</td>\n",
       "      <td>2407198</td>\n",
       "      <td>50</td>\n",
       "      <td>7</td>\n",
       "      <td>7308</td>\n",
       "      <td>1</td>\n",
       "      <td>1</td>\n",
       "      <td>1</td>\n",
       "      <td>1</td>\n",
       "      <td>5</td>\n",
       "      <td>...</td>\n",
       "      <td>1</td>\n",
       "      <td>1</td>\n",
       "      <td>4.000</td>\n",
       "      <td>319113</td>\n",
       "      <td>40.46</td>\n",
       "      <td>1</td>\n",
       "      <td>9</td>\n",
       "      <td>PT01</td>\n",
       "      <td>2</td>\n",
       "      <td>5</td>\n",
       "    </tr>\n",
       "    <tr>\n",
       "      <th>1</th>\n",
       "      <td>2019</td>\n",
       "      <td>2407199</td>\n",
       "      <td>50</td>\n",
       "      <td>7</td>\n",
       "      <td>7416</td>\n",
       "      <td>1</td>\n",
       "      <td>1</td>\n",
       "      <td>2</td>\n",
       "      <td>0</td>\n",
       "      <td>5</td>\n",
       "      <td>...</td>\n",
       "      <td>1</td>\n",
       "      <td>1</td>\n",
       "      <td>4.250</td>\n",
       "      <td>248005</td>\n",
       "      <td>45.67</td>\n",
       "      <td>3</td>\n",
       "      <td>2</td>\n",
       "      <td>PT01</td>\n",
       "      <td>2</td>\n",
       "      <td>2</td>\n",
       "    </tr>\n",
       "    <tr>\n",
       "      <th>2</th>\n",
       "      <td>2019</td>\n",
       "      <td>2407200</td>\n",
       "      <td>50</td>\n",
       "      <td>15</td>\n",
       "      <td>5143</td>\n",
       "      <td>1</td>\n",
       "      <td>1</td>\n",
       "      <td>2</td>\n",
       "      <td>0</td>\n",
       "      <td>5</td>\n",
       "      <td>...</td>\n",
       "      <td>1</td>\n",
       "      <td>1</td>\n",
       "      <td>4.250</td>\n",
       "      <td>211105</td>\n",
       "      <td>46.23</td>\n",
       "      <td>2</td>\n",
       "      <td>3</td>\n",
       "      <td>PT01</td>\n",
       "      <td>2</td>\n",
       "      <td>2</td>\n",
       "    </tr>\n",
       "    <tr>\n",
       "      <th>3</th>\n",
       "      <td>2019</td>\n",
       "      <td>2407201</td>\n",
       "      <td>50</td>\n",
       "      <td>17</td>\n",
       "      <td>8866</td>\n",
       "      <td>1</td>\n",
       "      <td>2</td>\n",
       "      <td>2</td>\n",
       "      <td>0</td>\n",
       "      <td>5</td>\n",
       "      <td>...</td>\n",
       "      <td>1</td>\n",
       "      <td>1</td>\n",
       "      <td>4.875</td>\n",
       "      <td>210000</td>\n",
       "      <td>36.88</td>\n",
       "      <td>4</td>\n",
       "      <td>2</td>\n",
       "      <td>PT01</td>\n",
       "      <td>2</td>\n",
       "      <td>2</td>\n",
       "    </tr>\n",
       "    <tr>\n",
       "      <th>4</th>\n",
       "      <td>2019</td>\n",
       "      <td>2407202</td>\n",
       "      <td>23</td>\n",
       "      <td>31</td>\n",
       "      <td>15240</td>\n",
       "      <td>1</td>\n",
       "      <td>0</td>\n",
       "      <td>1</td>\n",
       "      <td>1</td>\n",
       "      <td>5</td>\n",
       "      <td>...</td>\n",
       "      <td>1</td>\n",
       "      <td>1</td>\n",
       "      <td>4.625</td>\n",
       "      <td>233200</td>\n",
       "      <td>34.95</td>\n",
       "      <td>5</td>\n",
       "      <td>9</td>\n",
       "      <td>PT01</td>\n",
       "      <td>2</td>\n",
       "      <td>5</td>\n",
       "    </tr>\n",
       "  </tbody>\n",
       "</table>\n",
       "<p>5 rows × 25 columns</p>\n",
       "</div>"
      ],
      "text/plain": [
       "   Year LoanCharacteristicsID State Code County Code  \\\n",
       "0  2019               2407198         50           7   \n",
       "1  2019               2407199         50           7   \n",
       "2  2019               2407200         50          15   \n",
       "3  2019               2407201         50          17   \n",
       "4  2019               2407202         23          31   \n",
       "\n",
       "   Total Monthly Income Amount Loan Purpose Type Mortgage Type Code  \\\n",
       "0                         7308                 1                  1   \n",
       "1                         7416                 1                  1   \n",
       "2                         5143                 1                  1   \n",
       "3                         8866                 1                  2   \n",
       "4                        15240                 1                  0   \n",
       "\n",
       "   Borrower Count First Time Homebuyer Indicator Borrower 1 Race Type  ...  \\\n",
       "0               1                              1                    5  ...   \n",
       "1               2                              0                    5  ...   \n",
       "2               2                              0                    5  ...   \n",
       "3               2                              0                    5  ...   \n",
       "4               1                              1                    5  ...   \n",
       "\n",
       "  Property Usage Type Property Unit Count Note Rate Percent  Note Amount  \\\n",
       "0                   1                   1             4.000       319113   \n",
       "1                   1                   1             4.250       248005   \n",
       "2                   1                   1             4.250       211105   \n",
       "3                   1                   1             4.875       210000   \n",
       "4                   1                   1             4.625       233200   \n",
       "\n",
       "   Total Debt Expense Ratio Percent Borrower 1 Credit Score Value  \\\n",
       "0                             40.46                             1   \n",
       "1                             45.67                             3   \n",
       "2                             46.23                             2   \n",
       "3                             36.88                             4   \n",
       "4                             34.95                             5   \n",
       "\n",
       "   Borrower 2 Credit Score Value  Property Type Code  \\\n",
       "0                              9                PT01   \n",
       "1                              2                PT01   \n",
       "2                              3                PT01   \n",
       "3                              2                PT01   \n",
       "4                              9                PT01   \n",
       "\n",
       "   Borrower 1 Ethnicity Type  Borrower 2 Ethnicity Type  \n",
       "0                          2                          5  \n",
       "1                          2                          2  \n",
       "2                          2                          2  \n",
       "3                          2                          2  \n",
       "4                          2                          5  \n",
       "\n",
       "[5 rows x 25 columns]"
      ]
     },
     "execution_count": 4,
     "metadata": {},
     "output_type": "execute_result"
    }
   ],
   "source": [
    "# Check output\n",
    "#\n",
    "df.head()"
   ]
  },
  {
   "cell_type": "code",
   "execution_count": 5,
   "id": "1ba48c8a",
   "metadata": {},
   "outputs": [
    {
     "data": {
      "text/plain": [
       "(101205, 25)"
      ]
     },
     "execution_count": 5,
     "metadata": {},
     "output_type": "execute_result"
    }
   ],
   "source": [
    "#Check shape\n",
    "\n",
    "df.shape"
   ]
  },
  {
   "cell_type": "markdown",
   "id": "749ea317",
   "metadata": {},
   "source": [
    "## 2. Create new columns"
   ]
  },
  {
   "cell_type": "code",
   "execution_count": 6,
   "id": "d5bd5706",
   "metadata": {},
   "outputs": [],
   "source": [
    "# Assign Loan Purpose Type values using data dictionary\n",
    "\n",
    "df.loc[df['Loan Purpose Type'] == '1', 'Loan Purpose'] = 'Purchase'\n",
    "df.loc[df['Loan Purpose Type'] == '2', 'Loan Purpose'] = 'No Cash Out Refinancing'\n",
    "df.loc[df['Loan Purpose Type'] == '3', 'Loan Purpose'] = 'Second Mortgage'\n",
    "df.loc[df['Loan Purpose Type'] == '4', 'Loan Purpose'] = 'New Construction'\n",
    "df.loc[df['Loan Purpose Type'] == '5', 'Loan Purpose'] = 'Rehabilitation or Home Improvement'\n",
    "df.loc[df['Loan Purpose Type'] == '6', 'Loan Purpose'] = 'Cash-out Refinancing'\n",
    "df.loc[df['Loan Purpose Type'] == '7', 'Loan Purpose'] = 'Other'"
   ]
  },
  {
   "cell_type": "code",
   "execution_count": 7,
   "id": "bf02c415",
   "metadata": {},
   "outputs": [
    {
     "data": {
      "text/plain": [
       "Purchase    101205\n",
       "Name: Loan Purpose, dtype: int64"
      ]
     },
     "execution_count": 7,
     "metadata": {},
     "output_type": "execute_result"
    }
   ],
   "source": [
    "# Check frequency\n",
    "\n",
    "df['Loan Purpose'].value_counts(dropna = False)"
   ]
  },
  {
   "cell_type": "code",
   "execution_count": 8,
   "id": "e68774d9",
   "metadata": {},
   "outputs": [],
   "source": [
    "# Assign Mortgage Type Code values using data dictionary\n",
    "\n",
    "df.loc[df['Mortgage Type Code'] == '0', 'Mortgage Type'] = 'Conventional'\n",
    "df.loc[df['Mortgage Type Code'] == '1', 'Mortgage Type'] = 'FHA'\n",
    "df.loc[df['Mortgage Type Code'] == '2', 'Mortgage Type'] = 'VA'\n",
    "df.loc[df['Mortgage Type Code'] == '3', 'Mortgage Type'] = 'USDA Rural Housing-FSA Guaranteed'\n",
    "df.loc[df['Mortgage Type Code'] == '4', 'Mortgage Type'] = 'HECMs'\n",
    "df.loc[df['Mortgage Type Code'] == '5', 'Mortgage Type'] = 'Title1-FHA'"
   ]
  },
  {
   "cell_type": "code",
   "execution_count": 9,
   "id": "0be10f8b",
   "metadata": {},
   "outputs": [
    {
     "data": {
      "text/plain": [
       "Conventional                         91617\n",
       "USDA Rural Housing-FSA Guaranteed     4213\n",
       "FHA                                   3014\n",
       "VA                                    2361\n",
       "Name: Mortgage Type, dtype: int64"
      ]
     },
     "execution_count": 9,
     "metadata": {},
     "output_type": "execute_result"
    }
   ],
   "source": [
    "# Check frequency\n",
    "\n",
    "df['Mortgage Type'].value_counts(dropna = False)"
   ]
  },
  {
   "cell_type": "code",
   "execution_count": 10,
   "id": "2ba481c2",
   "metadata": {},
   "outputs": [],
   "source": [
    "# Assign First Time Homebuyer Indicator values using data dictionary\n",
    "\n",
    "df.loc[df['First Time Homebuyer Indicator'] == '0', 'First Time Homebuyer'] = 'No'\n",
    "df.loc[df['First Time Homebuyer Indicator'] == '1', 'First Time Homebuyer'] = 'Yes'"
   ]
  },
  {
   "cell_type": "code",
   "execution_count": 11,
   "id": "919603f0",
   "metadata": {},
   "outputs": [
    {
     "data": {
      "text/plain": [
       "No     61711\n",
       "Yes    39494\n",
       "Name: First Time Homebuyer, dtype: int64"
      ]
     },
     "execution_count": 11,
     "metadata": {},
     "output_type": "execute_result"
    }
   ],
   "source": [
    "# Check frequency\n",
    "\n",
    "df['First Time Homebuyer'].value_counts(dropna = False)"
   ]
  },
  {
   "cell_type": "code",
   "execution_count": 12,
   "id": "09ee8db4",
   "metadata": {},
   "outputs": [],
   "source": [
    "# Assign Borrower 1 Race Type values using data dictionary\n",
    "\n",
    "df.loc[df['Borrower 1 Race Type'] == '1', 'Borrower 1 Race'] = 'American Indian or Alaska Native'\n",
    "df.loc[df['Borrower 1 Race Type'] == '2', 'Borrower 1 Race'] = 'Asian'\n",
    "df.loc[df['Borrower 1 Race Type'] == '3', 'Borrower 1 Race'] = 'Black or African American'\n",
    "df.loc[df['Borrower 1 Race Type'] == '4', 'Borrower 1 Race'] = 'Native Hawaiian or other Pacific Islander'\n",
    "df.loc[df['Borrower 1 Race Type'] == '5', 'Borrower 1 Race'] = 'White'\n",
    "df.loc[df['Borrower 1 Race Type'] == '6', 'Borrower 1 Race'] = 'Unknown'\n",
    "df.loc[df['Borrower 1 Race Type'] == '7', 'Borrower 1 Race'] = 'Not Applicable - first or primary borrower is an institution, corporation or partnership'"
   ]
  },
  {
   "cell_type": "code",
   "execution_count": 13,
   "id": "7afa20de",
   "metadata": {},
   "outputs": [
    {
     "data": {
      "text/plain": [
       "White                                        87257\n",
       "Unknown                                       7299\n",
       "Asian                                         3308\n",
       "Black or African American                     2313\n",
       "American Indian or Alaska Native               918\n",
       "Native Hawaiian or other Pacific Islander      110\n",
       "Name: Borrower 1 Race, dtype: int64"
      ]
     },
     "execution_count": 13,
     "metadata": {},
     "output_type": "execute_result"
    }
   ],
   "source": [
    "# Check frequency\n",
    "\n",
    "df['Borrower 1 Race'].value_counts(dropna = False)"
   ]
  },
  {
   "cell_type": "code",
   "execution_count": 14,
   "id": "6c76862c",
   "metadata": {},
   "outputs": [],
   "source": [
    "# Assign Borrower 2 Race Type values using data dictionary\n",
    "\n",
    "df.loc[df['Borrower 2 Race Type'] == '1', 'Borrower 2 Race'] = 'American Indian or Alaska Native'\n",
    "df.loc[df['Borrower 2 Race Type'] == '2', 'Borrower 2 Race'] = 'Asian'\n",
    "df.loc[df['Borrower 2 Race Type'] == '3', 'Borrower 2 Race'] = 'Black or African American'\n",
    "df.loc[df['Borrower 2 Race Type'] == '4', 'Borrower 2 Race'] = 'Native Hawaiian or other Pacific Islander'\n",
    "df.loc[df['Borrower 2 Race Type'] == '5', 'Borrower 2 Race'] = 'White'\n",
    "df.loc[df['Borrower 2 Race Type'] == '6', 'Borrower 2 Race'] = 'Information not provided by Borrower'\n",
    "df.loc[df['Borrower 2 Race Type'] == '7', 'Borrower 2 Race'] = 'Not Applicable - first or primary borrower is an institution, corporation or partnership'\n",
    "df.loc[df['Borrower 2 Race Type'] == '8', 'Borrower 2 Race'] = 'No Co-Borrower'"
   ]
  },
  {
   "cell_type": "code",
   "execution_count": 15,
   "id": "26a36311",
   "metadata": {},
   "outputs": [
    {
     "data": {
      "text/plain": [
       "White                                                                                       46943\n",
       "No Co-Borrower                                                                              46900\n",
       "Information not provided by Borrower                                                         4468\n",
       "Asian                                                                                        1684\n",
       "Black or African American                                                                     879\n",
       "American Indian or Alaska Native                                                              279\n",
       "Native Hawaiian or other Pacific Islander                                                      51\n",
       "Not Applicable - first or primary borrower is an institution, corporation or partnership        1\n",
       "Name: Borrower 2 Race, dtype: int64"
      ]
     },
     "execution_count": 15,
     "metadata": {},
     "output_type": "execute_result"
    }
   ],
   "source": [
    "# Check frequency\n",
    "\n",
    "df['Borrower 2 Race'].value_counts(dropna = False)"
   ]
  },
  {
   "cell_type": "code",
   "execution_count": 16,
   "id": "6baf220f",
   "metadata": {},
   "outputs": [],
   "source": [
    "# Assign Borrower 1 Gender Type values using data dictionary\n",
    "\n",
    "df.loc[df['Borrower 1 Gender Type'] == '1', 'Borrower 1 Gender'] = 'Male'\n",
    "df.loc[df['Borrower 1 Gender Type'] == '2', 'Borrower 1 Gender'] = 'Female'\n",
    "df.loc[df['Borrower 1 Gender Type'] == '3', 'Borrower 1 Gender'] = 'Unknown'\n",
    "df.loc[df['Borrower 1 Gender Type'] == '4', 'Borrower 1 Gender'] = 'Not Applicable - first or primary borrower is an institution, corporation or partnership'\n",
    "df.loc[df['Borrower 1 Gender Type'] == '6', 'Borrower 1 Gender'] = 'Unknown'"
   ]
  },
  {
   "cell_type": "code",
   "execution_count": 17,
   "id": "1b1c27c1",
   "metadata": {},
   "outputs": [
    {
     "data": {
      "text/plain": [
       "Male       65493\n",
       "Female     31889\n",
       "Unknown     3823\n",
       "Name: Borrower 1 Gender, dtype: int64"
      ]
     },
     "execution_count": 17,
     "metadata": {},
     "output_type": "execute_result"
    }
   ],
   "source": [
    "# Check frequency\n",
    "\n",
    "df['Borrower 1 Gender'].value_counts(dropna = False)"
   ]
  },
  {
   "cell_type": "code",
   "execution_count": 18,
   "id": "e35f0cdd",
   "metadata": {},
   "outputs": [],
   "source": [
    "# Assign Borrower 2 Gender Type values using data dictionary\n",
    "\n",
    "df.loc[df['Borrower 2 Gender Type'] == '1', 'Borrower 2 Gender'] = 'Male'\n",
    "df.loc[df['Borrower 2 Gender Type'] == '2', 'Borrower 2 Gender'] = 'Female'\n",
    "df.loc[df['Borrower 2 Gender Type'] == '3', 'Borrower 2 Gender'] = 'Unknown'\n",
    "df.loc[df['Borrower 2 Gender Type'] == '4', 'Borrower 2 Gender'] = 'No Co-Borrower'\n",
    "df.loc[df['Borrower 2 Gender Type'] == '5', 'Borrower 2 Gender'] = 'Not Applicable - first or primary borrower is an institution, corporation or partnership'\n",
    "df.loc[df['Borrower 2 Gender Type'] == '6', 'Borrower 2 Gender'] = 'Unknown'"
   ]
  },
  {
   "cell_type": "code",
   "execution_count": 19,
   "id": "51105ba3",
   "metadata": {},
   "outputs": [
    {
     "data": {
      "text/plain": [
       "No Co-Borrower    46898\n",
       "Female            38090\n",
       "Male              13770\n",
       "Unknown            2447\n",
       "Name: Borrower 2 Gender, dtype: int64"
      ]
     },
     "execution_count": 19,
     "metadata": {},
     "output_type": "execute_result"
    }
   ],
   "source": [
    "# Check frequency\n",
    "\n",
    "df['Borrower 2 Gender'].value_counts(dropna = False)"
   ]
  },
  {
   "cell_type": "code",
   "execution_count": 20,
   "id": "ea778580",
   "metadata": {},
   "outputs": [],
   "source": [
    "# Assign Property Usage Type values using data dictionary\n",
    "\n",
    "df.loc[df['Property Usage Type'] == '1', 'Property Usage'] = 'Principal Residence'\n",
    "df.loc[df['Property Usage Type'] == '2', 'Property Usage'] = 'Second Home'\n",
    "df.loc[df['Property Usage Type'] == '3', 'Property Usage'] = 'Investment Property'"
   ]
  },
  {
   "cell_type": "code",
   "execution_count": 21,
   "id": "6e76c391",
   "metadata": {},
   "outputs": [
    {
     "data": {
      "text/plain": [
       "Principal Residence    95007\n",
       "Second Home             6198\n",
       "Name: Property Usage, dtype: int64"
      ]
     },
     "execution_count": 21,
     "metadata": {},
     "output_type": "execute_result"
    }
   ],
   "source": [
    "# Check frequency\n",
    "\n",
    "df['Property Usage'].value_counts(dropna = False)"
   ]
  },
  {
   "cell_type": "code",
   "execution_count": 22,
   "id": "c585ca6d",
   "metadata": {},
   "outputs": [],
   "source": [
    "# Assign Property Type Code values using data dictionary\n",
    "\n",
    "df.loc[df['Property Type Code'] == 'PT01', 'Property Type'] = 'Single family detached'\n",
    "df.loc[df['Property Type Code'] == 'PT02', 'Property Type'] = 'Deminimus PUD'\n",
    "df.loc[df['Property Type Code'] == 'PT03', 'Property Type'] = 'Single family attached'\n",
    "df.loc[df['Property Type Code'] == 'PT04', 'Property Type'] = 'Two family'\n",
    "df.loc[df['Property Type Code'] == 'PT05', 'Property Type'] = 'Townhouse'\n",
    "df.loc[df['Property Type Code'] == 'PT06', 'Property Type'] = 'Low-rise condo'\n",
    "df.loc[df['Property Type Code'] == 'PT07', 'Property Type'] = 'PUD'\n",
    "df.loc[df['Property Type Code'] == 'PT08', 'Property Type'] = 'Duplex'\n",
    "df.loc[df['Property Type Code'] == 'PT09', 'Property Type'] = 'Three family'\n",
    "df.loc[df['Property Type Code'] == 'PT10', 'Property Type'] = 'Four family'\n",
    "df.loc[df['Property Type Code'] == 'PT11', 'Property Type'] = 'Hi-res condo'\n",
    "df.loc[df['Property Type Code'] == 'PT12', 'Property Type'] = 'Manufactured home not chattel'\n",
    "df.loc[df['Property Type Code'] == 'PT13', 'Property Type'] = 'Manufactured home chattel'\n",
    "df.loc[df['Property Type Code'] == 'PT13', 'Property Type'] = 'Five plus multifamily'"
   ]
  },
  {
   "cell_type": "code",
   "execution_count": 23,
   "id": "20a07692",
   "metadata": {},
   "outputs": [
    {
     "data": {
      "text/plain": [
       "Single family detached           76798\n",
       "PUD                              16216\n",
       "Low-rise condo                    6445\n",
       "Two family                         675\n",
       "Single family attached             347\n",
       "Manufactured home not chattel      290\n",
       "Townhouse                          242\n",
       "Hi-res condo                       110\n",
       "Three family                        44\n",
       "Four family                         16\n",
       "Deminimus PUD                       12\n",
       "Duplex                              10\n",
       "Name: Property Type, dtype: int64"
      ]
     },
     "execution_count": 23,
     "metadata": {},
     "output_type": "execute_result"
    }
   ],
   "source": [
    "# Check frequency\n",
    "\n",
    "df['Property Type'].value_counts(dropna = False)"
   ]
  },
  {
   "cell_type": "code",
   "execution_count": 24,
   "id": "556fd3a4",
   "metadata": {},
   "outputs": [
    {
     "data": {
      "text/html": [
       "<div>\n",
       "<style scoped>\n",
       "    .dataframe tbody tr th:only-of-type {\n",
       "        vertical-align: middle;\n",
       "    }\n",
       "\n",
       "    .dataframe tbody tr th {\n",
       "        vertical-align: top;\n",
       "    }\n",
       "\n",
       "    .dataframe thead th {\n",
       "        text-align: right;\n",
       "    }\n",
       "</style>\n",
       "<table border=\"1\" class=\"dataframe\">\n",
       "  <thead>\n",
       "    <tr style=\"text-align: right;\">\n",
       "      <th></th>\n",
       "      <th>Year</th>\n",
       "      <th>LoanCharacteristicsID</th>\n",
       "      <th>State Code</th>\n",
       "      <th>County Code</th>\n",
       "      <th>Total Monthly Income Amount</th>\n",
       "      <th>Loan Purpose Type</th>\n",
       "      <th>Mortgage Type Code</th>\n",
       "      <th>Borrower Count</th>\n",
       "      <th>First Time Homebuyer Indicator</th>\n",
       "      <th>Borrower 1 Race Type</th>\n",
       "      <th>...</th>\n",
       "      <th>Borrower 2 Ethnicity Type</th>\n",
       "      <th>Loan Purpose</th>\n",
       "      <th>Mortgage Type</th>\n",
       "      <th>First Time Homebuyer</th>\n",
       "      <th>Borrower 1 Race</th>\n",
       "      <th>Borrower 2 Race</th>\n",
       "      <th>Borrower 1 Gender</th>\n",
       "      <th>Borrower 2 Gender</th>\n",
       "      <th>Property Usage</th>\n",
       "      <th>Property Type</th>\n",
       "    </tr>\n",
       "  </thead>\n",
       "  <tbody>\n",
       "    <tr>\n",
       "      <th>0</th>\n",
       "      <td>2019</td>\n",
       "      <td>2407198</td>\n",
       "      <td>50</td>\n",
       "      <td>7</td>\n",
       "      <td>7308</td>\n",
       "      <td>1</td>\n",
       "      <td>1</td>\n",
       "      <td>1</td>\n",
       "      <td>1</td>\n",
       "      <td>5</td>\n",
       "      <td>...</td>\n",
       "      <td>5</td>\n",
       "      <td>Purchase</td>\n",
       "      <td>FHA</td>\n",
       "      <td>Yes</td>\n",
       "      <td>White</td>\n",
       "      <td>No Co-Borrower</td>\n",
       "      <td>Female</td>\n",
       "      <td>No Co-Borrower</td>\n",
       "      <td>Principal Residence</td>\n",
       "      <td>Single family detached</td>\n",
       "    </tr>\n",
       "    <tr>\n",
       "      <th>1</th>\n",
       "      <td>2019</td>\n",
       "      <td>2407199</td>\n",
       "      <td>50</td>\n",
       "      <td>7</td>\n",
       "      <td>7416</td>\n",
       "      <td>1</td>\n",
       "      <td>1</td>\n",
       "      <td>2</td>\n",
       "      <td>0</td>\n",
       "      <td>5</td>\n",
       "      <td>...</td>\n",
       "      <td>2</td>\n",
       "      <td>Purchase</td>\n",
       "      <td>FHA</td>\n",
       "      <td>No</td>\n",
       "      <td>White</td>\n",
       "      <td>White</td>\n",
       "      <td>Female</td>\n",
       "      <td>Male</td>\n",
       "      <td>Principal Residence</td>\n",
       "      <td>Single family detached</td>\n",
       "    </tr>\n",
       "    <tr>\n",
       "      <th>2</th>\n",
       "      <td>2019</td>\n",
       "      <td>2407200</td>\n",
       "      <td>50</td>\n",
       "      <td>15</td>\n",
       "      <td>5143</td>\n",
       "      <td>1</td>\n",
       "      <td>1</td>\n",
       "      <td>2</td>\n",
       "      <td>0</td>\n",
       "      <td>5</td>\n",
       "      <td>...</td>\n",
       "      <td>2</td>\n",
       "      <td>Purchase</td>\n",
       "      <td>FHA</td>\n",
       "      <td>No</td>\n",
       "      <td>White</td>\n",
       "      <td>White</td>\n",
       "      <td>Male</td>\n",
       "      <td>Female</td>\n",
       "      <td>Principal Residence</td>\n",
       "      <td>Single family detached</td>\n",
       "    </tr>\n",
       "    <tr>\n",
       "      <th>3</th>\n",
       "      <td>2019</td>\n",
       "      <td>2407201</td>\n",
       "      <td>50</td>\n",
       "      <td>17</td>\n",
       "      <td>8866</td>\n",
       "      <td>1</td>\n",
       "      <td>2</td>\n",
       "      <td>2</td>\n",
       "      <td>0</td>\n",
       "      <td>5</td>\n",
       "      <td>...</td>\n",
       "      <td>2</td>\n",
       "      <td>Purchase</td>\n",
       "      <td>VA</td>\n",
       "      <td>No</td>\n",
       "      <td>White</td>\n",
       "      <td>White</td>\n",
       "      <td>Male</td>\n",
       "      <td>Female</td>\n",
       "      <td>Principal Residence</td>\n",
       "      <td>Single family detached</td>\n",
       "    </tr>\n",
       "    <tr>\n",
       "      <th>4</th>\n",
       "      <td>2019</td>\n",
       "      <td>2407202</td>\n",
       "      <td>23</td>\n",
       "      <td>31</td>\n",
       "      <td>15240</td>\n",
       "      <td>1</td>\n",
       "      <td>0</td>\n",
       "      <td>1</td>\n",
       "      <td>1</td>\n",
       "      <td>5</td>\n",
       "      <td>...</td>\n",
       "      <td>5</td>\n",
       "      <td>Purchase</td>\n",
       "      <td>Conventional</td>\n",
       "      <td>Yes</td>\n",
       "      <td>White</td>\n",
       "      <td>No Co-Borrower</td>\n",
       "      <td>Female</td>\n",
       "      <td>No Co-Borrower</td>\n",
       "      <td>Principal Residence</td>\n",
       "      <td>Single family detached</td>\n",
       "    </tr>\n",
       "  </tbody>\n",
       "</table>\n",
       "<p>5 rows × 34 columns</p>\n",
       "</div>"
      ],
      "text/plain": [
       "   Year LoanCharacteristicsID State Code County Code  \\\n",
       "0  2019               2407198         50           7   \n",
       "1  2019               2407199         50           7   \n",
       "2  2019               2407200         50          15   \n",
       "3  2019               2407201         50          17   \n",
       "4  2019               2407202         23          31   \n",
       "\n",
       "   Total Monthly Income Amount Loan Purpose Type Mortgage Type Code  \\\n",
       "0                         7308                 1                  1   \n",
       "1                         7416                 1                  1   \n",
       "2                         5143                 1                  1   \n",
       "3                         8866                 1                  2   \n",
       "4                        15240                 1                  0   \n",
       "\n",
       "   Borrower Count First Time Homebuyer Indicator Borrower 1 Race Type  ...  \\\n",
       "0               1                              1                    5  ...   \n",
       "1               2                              0                    5  ...   \n",
       "2               2                              0                    5  ...   \n",
       "3               2                              0                    5  ...   \n",
       "4               1                              1                    5  ...   \n",
       "\n",
       "  Borrower 2 Ethnicity Type Loan Purpose Mortgage Type  First Time Homebuyer  \\\n",
       "0                         5     Purchase           FHA                   Yes   \n",
       "1                         2     Purchase           FHA                    No   \n",
       "2                         2     Purchase           FHA                    No   \n",
       "3                         2     Purchase            VA                    No   \n",
       "4                         5     Purchase  Conventional                   Yes   \n",
       "\n",
       "   Borrower 1 Race Borrower 2 Race  Borrower 1 Gender  Borrower 2 Gender  \\\n",
       "0            White  No Co-Borrower             Female     No Co-Borrower   \n",
       "1            White           White             Female               Male   \n",
       "2            White           White               Male             Female   \n",
       "3            White           White               Male             Female   \n",
       "4            White  No Co-Borrower             Female     No Co-Borrower   \n",
       "\n",
       "        Property Usage           Property Type  \n",
       "0  Principal Residence  Single family detached  \n",
       "1  Principal Residence  Single family detached  \n",
       "2  Principal Residence  Single family detached  \n",
       "3  Principal Residence  Single family detached  \n",
       "4  Principal Residence  Single family detached  \n",
       "\n",
       "[5 rows x 34 columns]"
      ]
     },
     "execution_count": 24,
     "metadata": {},
     "output_type": "execute_result"
    }
   ],
   "source": [
    "# Check output\n",
    "\n",
    "df.head()"
   ]
  },
  {
   "cell_type": "code",
   "execution_count": 25,
   "id": "cfe7d1de",
   "metadata": {},
   "outputs": [
    {
     "data": {
      "text/plain": [
       "(101205, 34)"
      ]
     },
     "execution_count": 25,
     "metadata": {},
     "output_type": "execute_result"
    }
   ],
   "source": [
    "# Check shape\n",
    "\n",
    "df.shape"
   ]
  },
  {
   "cell_type": "markdown",
   "id": "07758fdd",
   "metadata": {},
   "source": [
    "## 3. Merge data with County List"
   ]
  },
  {
   "cell_type": "code",
   "execution_count": 26,
   "id": "74fa4259",
   "metadata": {},
   "outputs": [],
   "source": [
    "# Import data\n",
    "\n",
    "df_county = pd.read_csv(os.path.join(path, '02 Data', 'Original Data', 'FIPS County Codes List.csv'), index_col = False) "
   ]
  },
  {
   "cell_type": "code",
   "execution_count": 27,
   "id": "a44752a9",
   "metadata": {},
   "outputs": [
    {
     "data": {
      "text/html": [
       "<div>\n",
       "<style scoped>\n",
       "    .dataframe tbody tr th:only-of-type {\n",
       "        vertical-align: middle;\n",
       "    }\n",
       "\n",
       "    .dataframe tbody tr th {\n",
       "        vertical-align: top;\n",
       "    }\n",
       "\n",
       "    .dataframe thead th {\n",
       "        text-align: right;\n",
       "    }\n",
       "</style>\n",
       "<table border=\"1\" class=\"dataframe\">\n",
       "  <thead>\n",
       "    <tr style=\"text-align: right;\">\n",
       "      <th></th>\n",
       "      <th>County Code</th>\n",
       "      <th>County</th>\n",
       "      <th>State Code</th>\n",
       "      <th>State</th>\n",
       "    </tr>\n",
       "  </thead>\n",
       "  <tbody>\n",
       "    <tr>\n",
       "      <th>0</th>\n",
       "      <td>1</td>\n",
       "      <td>Autauga</td>\n",
       "      <td>1</td>\n",
       "      <td>Alabama</td>\n",
       "    </tr>\n",
       "    <tr>\n",
       "      <th>1</th>\n",
       "      <td>3</td>\n",
       "      <td>Baldwin</td>\n",
       "      <td>1</td>\n",
       "      <td>Alabama</td>\n",
       "    </tr>\n",
       "    <tr>\n",
       "      <th>2</th>\n",
       "      <td>5</td>\n",
       "      <td>Barbour</td>\n",
       "      <td>1</td>\n",
       "      <td>Alabama</td>\n",
       "    </tr>\n",
       "    <tr>\n",
       "      <th>3</th>\n",
       "      <td>7</td>\n",
       "      <td>Bibb</td>\n",
       "      <td>1</td>\n",
       "      <td>Alabama</td>\n",
       "    </tr>\n",
       "    <tr>\n",
       "      <th>4</th>\n",
       "      <td>9</td>\n",
       "      <td>Blount</td>\n",
       "      <td>1</td>\n",
       "      <td>Alabama</td>\n",
       "    </tr>\n",
       "  </tbody>\n",
       "</table>\n",
       "</div>"
      ],
      "text/plain": [
       "   County Code   County  State Code    State\n",
       "0            1  Autauga           1  Alabama\n",
       "1            3  Baldwin           1  Alabama\n",
       "2            5  Barbour           1  Alabama\n",
       "3            7     Bibb           1  Alabama\n",
       "4            9   Blount           1  Alabama"
      ]
     },
     "execution_count": 27,
     "metadata": {},
     "output_type": "execute_result"
    }
   ],
   "source": [
    "# Check output\n",
    "\n",
    "df_county.head()"
   ]
  },
  {
   "cell_type": "code",
   "execution_count": 28,
   "id": "2dd2ec60",
   "metadata": {},
   "outputs": [
    {
     "data": {
      "text/plain": [
       "(3142, 4)"
      ]
     },
     "execution_count": 28,
     "metadata": {},
     "output_type": "execute_result"
    }
   ],
   "source": [
    "# Check shape\n",
    "\n",
    "df_county.shape"
   ]
  },
  {
   "cell_type": "code",
   "execution_count": 29,
   "id": "e9ff81ff",
   "metadata": {},
   "outputs": [],
   "source": [
    "# Convert data types from numeric to string\n",
    "\n",
    "df_county['County Code'] = df_county['County Code'].astype('str')\n",
    "df_county['State Code'] = df_county['State Code'].astype('str')"
   ]
  },
  {
   "cell_type": "code",
   "execution_count": 30,
   "id": "7a2e01fc",
   "metadata": {},
   "outputs": [],
   "source": [
    "# Merge data\n",
    "\n",
    "df_merged = df_county.merge(df, on = ['County Code', 'State Code'], how = 'right', indicator = True)"
   ]
  },
  {
   "cell_type": "code",
   "execution_count": 31,
   "id": "382897e3",
   "metadata": {},
   "outputs": [
    {
     "data": {
      "text/plain": [
       "(101205, 37)"
      ]
     },
     "execution_count": 31,
     "metadata": {},
     "output_type": "execute_result"
    }
   ],
   "source": [
    "# Check shape\n",
    "\n",
    "df_merged.shape"
   ]
  },
  {
   "cell_type": "code",
   "execution_count": 32,
   "id": "afec1595",
   "metadata": {},
   "outputs": [
    {
     "data": {
      "text/plain": [
       "both          101202\n",
       "right_only         3\n",
       "left_only          0\n",
       "Name: _merge, dtype: int64"
      ]
     },
     "execution_count": 32,
     "metadata": {},
     "output_type": "execute_result"
    }
   ],
   "source": [
    "# Check merge flag frequency\n",
    "\n",
    "df_merged['_merge'].value_counts()"
   ]
  },
  {
   "cell_type": "code",
   "execution_count": 33,
   "id": "f82bc7e4",
   "metadata": {},
   "outputs": [],
   "source": [
    "# Drop extra columns in df_merged dataframe\n",
    "\n",
    "df_merged = df_merged.drop(columns = ['_merge', 'County Code', 'Property Usage Type', 'Property Type Code', 'First Time Homebuyer Indicator', 'Loan Purpose Type', 'Mortgage Type Code', 'Borrower 2 Race Type', 'Borrower 1 Gender Type', 'Borrower 2 Gender Type', 'Borrower 1 Ethnicity Type','Borrower 2 Ethnicity Type'])"
   ]
  },
  {
   "cell_type": "code",
   "execution_count": 34,
   "id": "3993b09c",
   "metadata": {},
   "outputs": [
    {
     "data": {
      "text/html": [
       "<div>\n",
       "<style scoped>\n",
       "    .dataframe tbody tr th:only-of-type {\n",
       "        vertical-align: middle;\n",
       "    }\n",
       "\n",
       "    .dataframe tbody tr th {\n",
       "        vertical-align: top;\n",
       "    }\n",
       "\n",
       "    .dataframe thead th {\n",
       "        text-align: right;\n",
       "    }\n",
       "</style>\n",
       "<table border=\"1\" class=\"dataframe\">\n",
       "  <thead>\n",
       "    <tr style=\"text-align: right;\">\n",
       "      <th></th>\n",
       "      <th>County</th>\n",
       "      <th>State Code</th>\n",
       "      <th>State</th>\n",
       "      <th>Year</th>\n",
       "      <th>LoanCharacteristicsID</th>\n",
       "      <th>Total Monthly Income Amount</th>\n",
       "      <th>Borrower Count</th>\n",
       "      <th>Borrower 1 Race Type</th>\n",
       "      <th>Borrower 1 Age</th>\n",
       "      <th>Borrower 2 Age</th>\n",
       "      <th>...</th>\n",
       "      <th>Borrower 2 Credit Score Value</th>\n",
       "      <th>Loan Purpose</th>\n",
       "      <th>Mortgage Type</th>\n",
       "      <th>First Time Homebuyer</th>\n",
       "      <th>Borrower 1 Race</th>\n",
       "      <th>Borrower 2 Race</th>\n",
       "      <th>Borrower 1 Gender</th>\n",
       "      <th>Borrower 2 Gender</th>\n",
       "      <th>Property Usage</th>\n",
       "      <th>Property Type</th>\n",
       "    </tr>\n",
       "  </thead>\n",
       "  <tbody>\n",
       "    <tr>\n",
       "      <th>0</th>\n",
       "      <td>Chittenden</td>\n",
       "      <td>50</td>\n",
       "      <td>Vermont</td>\n",
       "      <td>2019</td>\n",
       "      <td>2407198</td>\n",
       "      <td>7308</td>\n",
       "      <td>1</td>\n",
       "      <td>5</td>\n",
       "      <td>34.0</td>\n",
       "      <td>44.0</td>\n",
       "      <td>...</td>\n",
       "      <td>9</td>\n",
       "      <td>Purchase</td>\n",
       "      <td>FHA</td>\n",
       "      <td>Yes</td>\n",
       "      <td>White</td>\n",
       "      <td>No Co-Borrower</td>\n",
       "      <td>Female</td>\n",
       "      <td>No Co-Borrower</td>\n",
       "      <td>Principal Residence</td>\n",
       "      <td>Single family detached</td>\n",
       "    </tr>\n",
       "    <tr>\n",
       "      <th>1</th>\n",
       "      <td>Chittenden</td>\n",
       "      <td>50</td>\n",
       "      <td>Vermont</td>\n",
       "      <td>2019</td>\n",
       "      <td>2407199</td>\n",
       "      <td>7416</td>\n",
       "      <td>2</td>\n",
       "      <td>5</td>\n",
       "      <td>36.0</td>\n",
       "      <td>33.0</td>\n",
       "      <td>...</td>\n",
       "      <td>2</td>\n",
       "      <td>Purchase</td>\n",
       "      <td>FHA</td>\n",
       "      <td>No</td>\n",
       "      <td>White</td>\n",
       "      <td>White</td>\n",
       "      <td>Female</td>\n",
       "      <td>Male</td>\n",
       "      <td>Principal Residence</td>\n",
       "      <td>Single family detached</td>\n",
       "    </tr>\n",
       "    <tr>\n",
       "      <th>2</th>\n",
       "      <td>Lamoille</td>\n",
       "      <td>50</td>\n",
       "      <td>Vermont</td>\n",
       "      <td>2019</td>\n",
       "      <td>2407200</td>\n",
       "      <td>5143</td>\n",
       "      <td>2</td>\n",
       "      <td>5</td>\n",
       "      <td>34.0</td>\n",
       "      <td>36.0</td>\n",
       "      <td>...</td>\n",
       "      <td>3</td>\n",
       "      <td>Purchase</td>\n",
       "      <td>FHA</td>\n",
       "      <td>No</td>\n",
       "      <td>White</td>\n",
       "      <td>White</td>\n",
       "      <td>Male</td>\n",
       "      <td>Female</td>\n",
       "      <td>Principal Residence</td>\n",
       "      <td>Single family detached</td>\n",
       "    </tr>\n",
       "    <tr>\n",
       "      <th>3</th>\n",
       "      <td>Orange</td>\n",
       "      <td>50</td>\n",
       "      <td>Vermont</td>\n",
       "      <td>2019</td>\n",
       "      <td>2407201</td>\n",
       "      <td>8866</td>\n",
       "      <td>2</td>\n",
       "      <td>5</td>\n",
       "      <td>42.0</td>\n",
       "      <td>43.0</td>\n",
       "      <td>...</td>\n",
       "      <td>2</td>\n",
       "      <td>Purchase</td>\n",
       "      <td>VA</td>\n",
       "      <td>No</td>\n",
       "      <td>White</td>\n",
       "      <td>White</td>\n",
       "      <td>Male</td>\n",
       "      <td>Female</td>\n",
       "      <td>Principal Residence</td>\n",
       "      <td>Single family detached</td>\n",
       "    </tr>\n",
       "    <tr>\n",
       "      <th>4</th>\n",
       "      <td>York</td>\n",
       "      <td>23</td>\n",
       "      <td>Maine</td>\n",
       "      <td>2019</td>\n",
       "      <td>2407202</td>\n",
       "      <td>15240</td>\n",
       "      <td>1</td>\n",
       "      <td>5</td>\n",
       "      <td>66.0</td>\n",
       "      <td>44.0</td>\n",
       "      <td>...</td>\n",
       "      <td>9</td>\n",
       "      <td>Purchase</td>\n",
       "      <td>Conventional</td>\n",
       "      <td>Yes</td>\n",
       "      <td>White</td>\n",
       "      <td>No Co-Borrower</td>\n",
       "      <td>Female</td>\n",
       "      <td>No Co-Borrower</td>\n",
       "      <td>Principal Residence</td>\n",
       "      <td>Single family detached</td>\n",
       "    </tr>\n",
       "  </tbody>\n",
       "</table>\n",
       "<p>5 rows × 25 columns</p>\n",
       "</div>"
      ],
      "text/plain": [
       "       County State Code    State  Year LoanCharacteristicsID  \\\n",
       "0  Chittenden         50  Vermont  2019               2407198   \n",
       "1  Chittenden         50  Vermont  2019               2407199   \n",
       "2    Lamoille         50  Vermont  2019               2407200   \n",
       "3      Orange         50  Vermont  2019               2407201   \n",
       "4        York         23    Maine  2019               2407202   \n",
       "\n",
       "   Total Monthly Income Amount  Borrower Count Borrower 1 Race Type  \\\n",
       "0                         7308               1                    5   \n",
       "1                         7416               2                    5   \n",
       "2                         5143               2                    5   \n",
       "3                         8866               2                    5   \n",
       "4                        15240               1                    5   \n",
       "\n",
       "   Borrower 1 Age  Borrower 2 Age  ...  Borrower 2 Credit Score Value  \\\n",
       "0            34.0            44.0  ...                              9   \n",
       "1            36.0            33.0  ...                              2   \n",
       "2            34.0            36.0  ...                              3   \n",
       "3            42.0            43.0  ...                              2   \n",
       "4            66.0            44.0  ...                              9   \n",
       "\n",
       "   Loan Purpose  Mortgage Type  First Time Homebuyer  Borrower 1 Race  \\\n",
       "0      Purchase            FHA                   Yes            White   \n",
       "1      Purchase            FHA                    No            White   \n",
       "2      Purchase            FHA                    No            White   \n",
       "3      Purchase             VA                    No            White   \n",
       "4      Purchase   Conventional                   Yes            White   \n",
       "\n",
       "   Borrower 2 Race Borrower 1 Gender Borrower 2 Gender       Property Usage  \\\n",
       "0   No Co-Borrower            Female    No Co-Borrower  Principal Residence   \n",
       "1            White            Female              Male  Principal Residence   \n",
       "2            White              Male            Female  Principal Residence   \n",
       "3            White              Male            Female  Principal Residence   \n",
       "4   No Co-Borrower            Female    No Co-Borrower  Principal Residence   \n",
       "\n",
       "            Property Type  \n",
       "0  Single family detached  \n",
       "1  Single family detached  \n",
       "2  Single family detached  \n",
       "3  Single family detached  \n",
       "4  Single family detached  \n",
       "\n",
       "[5 rows x 25 columns]"
      ]
     },
     "execution_count": 34,
     "metadata": {},
     "output_type": "execute_result"
    }
   ],
   "source": [
    "# Check Output\n",
    "\n",
    "df_merged.head()"
   ]
  },
  {
   "cell_type": "markdown",
   "id": "d5ecb2ba",
   "metadata": {},
   "source": [
    "## 4. Create additional columns"
   ]
  },
  {
   "cell_type": "code",
   "execution_count": 35,
   "id": "98b9204e",
   "metadata": {},
   "outputs": [],
   "source": [
    "# Add loan count column\n",
    "\n",
    "df_merged['Loan Count'] = df_merged.groupby('LoanCharacteristicsID')['LoanCharacteristicsID'].transform('count')"
   ]
  },
  {
   "cell_type": "code",
   "execution_count": 36,
   "id": "acc0c343",
   "metadata": {},
   "outputs": [],
   "source": [
    "# Assign Monthly Income Range\n",
    "\n",
    "df_merged.loc[df_merged['Total Monthly Income Amount'] < 5000, 'Monthly Income Range'] = '<5,000'\n",
    "df_merged.loc[(df_merged['Total Monthly Income Amount'] >= 5000) & (df_merged['Total Monthly Income Amount'] < 500000), 'Monthly Income Range'] = '5,000 - 11,999'\n",
    "df_merged.loc[df_merged['Total Monthly Income Amount'] >= 12000, 'Monthly Income Range'] = '12,000+'"
   ]
  },
  {
   "cell_type": "code",
   "execution_count": 37,
   "id": "fc4e1a1c",
   "metadata": {},
   "outputs": [
    {
     "data": {
      "text/plain": [
       "5,000 - 11,999    54361\n",
       "<5,000            23834\n",
       "12,000+           23010\n",
       "Name: Monthly Income Range, dtype: int64"
      ]
     },
     "execution_count": 37,
     "metadata": {},
     "output_type": "execute_result"
    }
   ],
   "source": [
    "# Check frequency\n",
    "\n",
    "df_merged['Monthly Income Range'].value_counts(dropna = False)"
   ]
  },
  {
   "cell_type": "code",
   "execution_count": 38,
   "id": "1b682f85",
   "metadata": {},
   "outputs": [],
   "source": [
    "# Assign Age Range\n",
    "\n",
    "df_merged.loc[df_merged['Borrower 1 Age'] < 5000, 'Age Range'] = 'Under 35'\n",
    "df_merged.loc[(df_merged['Borrower 1 Age'] >= 35) & (df_merged['Borrower 1 Age'] < 45), 'Age Range'] = '35 - 44'\n",
    "df_merged.loc[(df_merged['Borrower 1 Age'] >= 45) & (df_merged['Borrower 1 Age'] < 55), 'Age Range'] = '45 - 54'\n",
    "df_merged.loc[(df_merged['Borrower 1 Age'] >= 55) & (df_merged['Borrower 1 Age'] < 65), 'Age Range'] = '55 - 64'\n",
    "df_merged.loc[df_merged['Borrower 1 Age'] >= 65, 'Age Range'] = '65+'"
   ]
  },
  {
   "cell_type": "code",
   "execution_count": 39,
   "id": "b2d64643",
   "metadata": {},
   "outputs": [
    {
     "data": {
      "text/plain": [
       "Under 35    41261\n",
       "35 - 44     25544\n",
       "45 - 54     15829\n",
       "55 - 64     11669\n",
       "65+          6902\n",
       "Name: Age Range, dtype: int64"
      ]
     },
     "execution_count": 39,
     "metadata": {},
     "output_type": "execute_result"
    }
   ],
   "source": [
    "# Check frequency\n",
    "\n",
    "df_merged['Age Range'].value_counts(dropna = False)"
   ]
  },
  {
   "cell_type": "code",
   "execution_count": 40,
   "id": "61a155f7",
   "metadata": {},
   "outputs": [],
   "source": [
    "# Assign Note Rate Percent Range\n",
    "\n",
    "df_merged.loc[df_merged['Note Rate Percent'] < 3, 'Note Rate Percent Range'] = 'Less than 3%'\n",
    "df_merged.loc[(df_merged['Note Rate Percent'] >= 3) & (df_merged['Note Rate Percent'] < 4), 'Note Rate Percent Range'] = '3 - 3.99%'\n",
    "df_merged.loc[(df_merged['Note Rate Percent'] >= 4) & (df_merged['Note Rate Percent'] < 5), 'Note Rate Percent Range'] = '4 - 4.99%'\n",
    "df_merged.loc[(df_merged['Note Rate Percent'] >= 5) & (df_merged['Note Rate Percent'] < 6), 'Note Rate Percent Range'] = '5 - 5.99%'\n",
    "df_merged.loc[df_merged['Note Rate Percent'] >= 6, 'Note Rate Percent Range'] = '6%+'"
   ]
  },
  {
   "cell_type": "code",
   "execution_count": 41,
   "id": "b0764420",
   "metadata": {},
   "outputs": [
    {
     "data": {
      "text/plain": [
       "3 - 3.99%       48225\n",
       "4 - 4.99%       24894\n",
       "Less than 3%    15020\n",
       "5 - 5.99%        9822\n",
       "6%+              3244\n",
       "Name: Note Rate Percent Range, dtype: int64"
      ]
     },
     "execution_count": 41,
     "metadata": {},
     "output_type": "execute_result"
    }
   ],
   "source": [
    "# Check frequency\n",
    "\n",
    "df_merged['Note Rate Percent Range'].value_counts(dropna = False)"
   ]
  },
  {
   "cell_type": "code",
   "execution_count": 42,
   "id": "af564499",
   "metadata": {},
   "outputs": [
    {
     "data": {
      "text/html": [
       "<div>\n",
       "<style scoped>\n",
       "    .dataframe tbody tr th:only-of-type {\n",
       "        vertical-align: middle;\n",
       "    }\n",
       "\n",
       "    .dataframe tbody tr th {\n",
       "        vertical-align: top;\n",
       "    }\n",
       "\n",
       "    .dataframe thead th {\n",
       "        text-align: right;\n",
       "    }\n",
       "</style>\n",
       "<table border=\"1\" class=\"dataframe\">\n",
       "  <thead>\n",
       "    <tr style=\"text-align: right;\">\n",
       "      <th></th>\n",
       "      <th>County</th>\n",
       "      <th>State Code</th>\n",
       "      <th>State</th>\n",
       "      <th>Year</th>\n",
       "      <th>LoanCharacteristicsID</th>\n",
       "      <th>Total Monthly Income Amount</th>\n",
       "      <th>Borrower Count</th>\n",
       "      <th>Borrower 1 Race Type</th>\n",
       "      <th>Borrower 1 Age</th>\n",
       "      <th>Borrower 2 Age</th>\n",
       "      <th>...</th>\n",
       "      <th>Borrower 1 Race</th>\n",
       "      <th>Borrower 2 Race</th>\n",
       "      <th>Borrower 1 Gender</th>\n",
       "      <th>Borrower 2 Gender</th>\n",
       "      <th>Property Usage</th>\n",
       "      <th>Property Type</th>\n",
       "      <th>Loan Count</th>\n",
       "      <th>Monthly Income Range</th>\n",
       "      <th>Age Range</th>\n",
       "      <th>Note Rate Percent Range</th>\n",
       "    </tr>\n",
       "  </thead>\n",
       "  <tbody>\n",
       "    <tr>\n",
       "      <th>0</th>\n",
       "      <td>Chittenden</td>\n",
       "      <td>50</td>\n",
       "      <td>Vermont</td>\n",
       "      <td>2019</td>\n",
       "      <td>2407198</td>\n",
       "      <td>7308</td>\n",
       "      <td>1</td>\n",
       "      <td>5</td>\n",
       "      <td>34.0</td>\n",
       "      <td>44.0</td>\n",
       "      <td>...</td>\n",
       "      <td>White</td>\n",
       "      <td>No Co-Borrower</td>\n",
       "      <td>Female</td>\n",
       "      <td>No Co-Borrower</td>\n",
       "      <td>Principal Residence</td>\n",
       "      <td>Single family detached</td>\n",
       "      <td>1</td>\n",
       "      <td>5,000 - 11,999</td>\n",
       "      <td>Under 35</td>\n",
       "      <td>4 - 4.99%</td>\n",
       "    </tr>\n",
       "    <tr>\n",
       "      <th>1</th>\n",
       "      <td>Chittenden</td>\n",
       "      <td>50</td>\n",
       "      <td>Vermont</td>\n",
       "      <td>2019</td>\n",
       "      <td>2407199</td>\n",
       "      <td>7416</td>\n",
       "      <td>2</td>\n",
       "      <td>5</td>\n",
       "      <td>36.0</td>\n",
       "      <td>33.0</td>\n",
       "      <td>...</td>\n",
       "      <td>White</td>\n",
       "      <td>White</td>\n",
       "      <td>Female</td>\n",
       "      <td>Male</td>\n",
       "      <td>Principal Residence</td>\n",
       "      <td>Single family detached</td>\n",
       "      <td>1</td>\n",
       "      <td>5,000 - 11,999</td>\n",
       "      <td>35 - 44</td>\n",
       "      <td>4 - 4.99%</td>\n",
       "    </tr>\n",
       "    <tr>\n",
       "      <th>2</th>\n",
       "      <td>Lamoille</td>\n",
       "      <td>50</td>\n",
       "      <td>Vermont</td>\n",
       "      <td>2019</td>\n",
       "      <td>2407200</td>\n",
       "      <td>5143</td>\n",
       "      <td>2</td>\n",
       "      <td>5</td>\n",
       "      <td>34.0</td>\n",
       "      <td>36.0</td>\n",
       "      <td>...</td>\n",
       "      <td>White</td>\n",
       "      <td>White</td>\n",
       "      <td>Male</td>\n",
       "      <td>Female</td>\n",
       "      <td>Principal Residence</td>\n",
       "      <td>Single family detached</td>\n",
       "      <td>1</td>\n",
       "      <td>5,000 - 11,999</td>\n",
       "      <td>Under 35</td>\n",
       "      <td>4 - 4.99%</td>\n",
       "    </tr>\n",
       "    <tr>\n",
       "      <th>3</th>\n",
       "      <td>Orange</td>\n",
       "      <td>50</td>\n",
       "      <td>Vermont</td>\n",
       "      <td>2019</td>\n",
       "      <td>2407201</td>\n",
       "      <td>8866</td>\n",
       "      <td>2</td>\n",
       "      <td>5</td>\n",
       "      <td>42.0</td>\n",
       "      <td>43.0</td>\n",
       "      <td>...</td>\n",
       "      <td>White</td>\n",
       "      <td>White</td>\n",
       "      <td>Male</td>\n",
       "      <td>Female</td>\n",
       "      <td>Principal Residence</td>\n",
       "      <td>Single family detached</td>\n",
       "      <td>1</td>\n",
       "      <td>5,000 - 11,999</td>\n",
       "      <td>35 - 44</td>\n",
       "      <td>4 - 4.99%</td>\n",
       "    </tr>\n",
       "    <tr>\n",
       "      <th>4</th>\n",
       "      <td>York</td>\n",
       "      <td>23</td>\n",
       "      <td>Maine</td>\n",
       "      <td>2019</td>\n",
       "      <td>2407202</td>\n",
       "      <td>15240</td>\n",
       "      <td>1</td>\n",
       "      <td>5</td>\n",
       "      <td>66.0</td>\n",
       "      <td>44.0</td>\n",
       "      <td>...</td>\n",
       "      <td>White</td>\n",
       "      <td>No Co-Borrower</td>\n",
       "      <td>Female</td>\n",
       "      <td>No Co-Borrower</td>\n",
       "      <td>Principal Residence</td>\n",
       "      <td>Single family detached</td>\n",
       "      <td>1</td>\n",
       "      <td>12,000+</td>\n",
       "      <td>65+</td>\n",
       "      <td>4 - 4.99%</td>\n",
       "    </tr>\n",
       "  </tbody>\n",
       "</table>\n",
       "<p>5 rows × 29 columns</p>\n",
       "</div>"
      ],
      "text/plain": [
       "       County State Code    State  Year LoanCharacteristicsID  \\\n",
       "0  Chittenden         50  Vermont  2019               2407198   \n",
       "1  Chittenden         50  Vermont  2019               2407199   \n",
       "2    Lamoille         50  Vermont  2019               2407200   \n",
       "3      Orange         50  Vermont  2019               2407201   \n",
       "4        York         23    Maine  2019               2407202   \n",
       "\n",
       "   Total Monthly Income Amount  Borrower Count Borrower 1 Race Type  \\\n",
       "0                         7308               1                    5   \n",
       "1                         7416               2                    5   \n",
       "2                         5143               2                    5   \n",
       "3                         8866               2                    5   \n",
       "4                        15240               1                    5   \n",
       "\n",
       "   Borrower 1 Age  Borrower 2 Age  ...  Borrower 1 Race  Borrower 2 Race  \\\n",
       "0            34.0            44.0  ...            White   No Co-Borrower   \n",
       "1            36.0            33.0  ...            White            White   \n",
       "2            34.0            36.0  ...            White            White   \n",
       "3            42.0            43.0  ...            White            White   \n",
       "4            66.0            44.0  ...            White   No Co-Borrower   \n",
       "\n",
       "   Borrower 1 Gender  Borrower 2 Gender       Property Usage  \\\n",
       "0             Female     No Co-Borrower  Principal Residence   \n",
       "1             Female               Male  Principal Residence   \n",
       "2               Male             Female  Principal Residence   \n",
       "3               Male             Female  Principal Residence   \n",
       "4             Female     No Co-Borrower  Principal Residence   \n",
       "\n",
       "            Property Type Loan Count Monthly Income Range Age Range  \\\n",
       "0  Single family detached          1       5,000 - 11,999  Under 35   \n",
       "1  Single family detached          1       5,000 - 11,999   35 - 44   \n",
       "2  Single family detached          1       5,000 - 11,999  Under 35   \n",
       "3  Single family detached          1       5,000 - 11,999   35 - 44   \n",
       "4  Single family detached          1              12,000+       65+   \n",
       "\n",
       "  Note Rate Percent Range  \n",
       "0               4 - 4.99%  \n",
       "1               4 - 4.99%  \n",
       "2               4 - 4.99%  \n",
       "3               4 - 4.99%  \n",
       "4               4 - 4.99%  \n",
       "\n",
       "[5 rows x 29 columns]"
      ]
     },
     "execution_count": 42,
     "metadata": {},
     "output_type": "execute_result"
    }
   ],
   "source": [
    "# Check Output\n",
    "\n",
    "df_merged.head()"
   ]
  },
  {
   "cell_type": "code",
   "execution_count": 43,
   "id": "0a7d0528",
   "metadata": {},
   "outputs": [
    {
     "data": {
      "text/plain": [
       "(101205, 29)"
      ]
     },
     "execution_count": 43,
     "metadata": {},
     "output_type": "execute_result"
    }
   ],
   "source": [
    "# Check Shape\n",
    "\n",
    "df_merged.shape"
   ]
  },
  {
   "cell_type": "markdown",
   "id": "6e4c8cc1",
   "metadata": {},
   "source": [
    "## 5. Export dataframe"
   ]
  },
  {
   "cell_type": "code",
   "execution_count": 44,
   "id": "602c866b",
   "metadata": {},
   "outputs": [],
   "source": [
    "# Export merged data as a pickle file\n",
    "\n",
    "df_merged.to_pickle(os.path.join(path, '02 Data','Prepared Data', 'FHL_bank_data_merged.pkl'))"
   ]
  },
  {
   "cell_type": "code",
   "execution_count": null,
   "id": "23c0680f",
   "metadata": {},
   "outputs": [],
   "source": []
  }
 ],
 "metadata": {
  "kernelspec": {
   "display_name": "Python 3 (ipykernel)",
   "language": "python",
   "name": "python3"
  },
  "language_info": {
   "codemirror_mode": {
    "name": "ipython",
    "version": 3
   },
   "file_extension": ".py",
   "mimetype": "text/x-python",
   "name": "python",
   "nbconvert_exporter": "python",
   "pygments_lexer": "ipython3",
   "version": "3.11.3"
  }
 },
 "nbformat": 4,
 "nbformat_minor": 5
}
